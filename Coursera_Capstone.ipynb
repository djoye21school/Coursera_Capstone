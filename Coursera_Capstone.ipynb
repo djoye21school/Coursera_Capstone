{
 "cells": [
  {
   "cell_type": "markdown",
   "metadata": {},
   "source": [
    "# Notebook for the capstone project."
   ]
  },
  {
   "cell_type": "code",
   "execution_count": 154,
   "metadata": {},
   "outputs": [],
   "source": [
    "import pandas as pd\n",
    "import numpy as np\n",
    "import matplotlib.pyplot as plt\n",
    "import seaborn as sns\n",
    "from geopy.distance import geodesic"
   ]
  },
  {
   "cell_type": "code",
   "execution_count": 153,
   "metadata": {},
   "outputs": [
    {
     "name": "stdout",
     "output_type": "stream",
     "text": [
      "Collecting geopy\n",
      "  Downloading geopy-2.0.0-py3-none-any.whl (111 kB)\n",
      "Collecting geographiclib<2,>=1.49\n",
      "  Downloading geographiclib-1.50-py3-none-any.whl (38 kB)\n",
      "Installing collected packages: geographiclib, geopy\n",
      "Successfully installed geographiclib-1.50 geopy-2.0.0\n"
     ]
    }
   ],
   "source": [
    "!pip install geopy"
   ]
  },
  {
   "cell_type": "code",
   "execution_count": 2,
   "metadata": {},
   "outputs": [
    {
     "name": "stderr",
     "output_type": "stream",
     "text": [
      "C:\\Users\\kruzh\\anaconda3\\lib\\site-packages\\IPython\\core\\interactiveshell.py:3063: DtypeWarning: Columns (33) have mixed types.Specify dtype option on import or set low_memory=False.\n",
      "  interactivity=interactivity, compiler=compiler, result=result)\n"
     ]
    }
   ],
   "source": [
    "df_orig = pd.read_csv(\"Data-Collisions.csv\")"
   ]
  },
  {
   "cell_type": "code",
   "execution_count": 3,
   "metadata": {},
   "outputs": [
    {
     "data": {
      "text/plain": [
       "Dry               124510\n",
       "Wet                47474\n",
       "Unknown            15078\n",
       "Ice                 1209\n",
       "Snow/Slush          1004\n",
       "Other                132\n",
       "Standing Water       115\n",
       "Sand/Mud/Dirt         75\n",
       "Oil                   64\n",
       "Name: ROADCOND, dtype: int64"
      ]
     },
     "execution_count": 3,
     "metadata": {},
     "output_type": "execute_result"
    }
   ],
   "source": [
    "df_orig[\"ROADCOND\"].value_counts()"
   ]
  },
  {
   "cell_type": "code",
   "execution_count": 143,
   "metadata": {},
   "outputs": [
    {
     "data": {
      "text/plain": [
       "1    136485\n",
       "2     58188\n",
       "Name: SEVERITYCODE, dtype: int64"
      ]
     },
     "execution_count": 143,
     "metadata": {},
     "output_type": "execute_result"
    }
   ],
   "source": [
    "df_orig.SEVERITYCODE.value_counts()"
   ]
  },
  {
   "cell_type": "code",
   "execution_count": 4,
   "metadata": {},
   "outputs": [
    {
     "data": {
      "text/html": [
       "<div>\n",
       "<style scoped>\n",
       "    .dataframe tbody tr th:only-of-type {\n",
       "        vertical-align: middle;\n",
       "    }\n",
       "\n",
       "    .dataframe tbody tr th {\n",
       "        vertical-align: top;\n",
       "    }\n",
       "\n",
       "    .dataframe thead th {\n",
       "        text-align: right;\n",
       "    }\n",
       "</style>\n",
       "<table border=\"1\" class=\"dataframe\">\n",
       "  <thead>\n",
       "    <tr style=\"text-align: right;\">\n",
       "      <th></th>\n",
       "      <th>SEVERITYCODE</th>\n",
       "      <th>X</th>\n",
       "      <th>Y</th>\n",
       "      <th>OBJECTID</th>\n",
       "      <th>INCKEY</th>\n",
       "      <th>COLDETKEY</th>\n",
       "      <th>REPORTNO</th>\n",
       "      <th>STATUS</th>\n",
       "      <th>ADDRTYPE</th>\n",
       "      <th>INTKEY</th>\n",
       "      <th>...</th>\n",
       "      <th>ROADCOND</th>\n",
       "      <th>LIGHTCOND</th>\n",
       "      <th>PEDROWNOTGRNT</th>\n",
       "      <th>SDOTCOLNUM</th>\n",
       "      <th>SPEEDING</th>\n",
       "      <th>ST_COLCODE</th>\n",
       "      <th>ST_COLDESC</th>\n",
       "      <th>SEGLANEKEY</th>\n",
       "      <th>CROSSWALKKEY</th>\n",
       "      <th>HITPARKEDCAR</th>\n",
       "    </tr>\n",
       "  </thead>\n",
       "  <tbody>\n",
       "    <tr>\n",
       "      <th>0</th>\n",
       "      <td>2</td>\n",
       "      <td>-122.323148</td>\n",
       "      <td>47.703140</td>\n",
       "      <td>1</td>\n",
       "      <td>1307</td>\n",
       "      <td>1307</td>\n",
       "      <td>3502005</td>\n",
       "      <td>Matched</td>\n",
       "      <td>Intersection</td>\n",
       "      <td>37475.0</td>\n",
       "      <td>...</td>\n",
       "      <td>Wet</td>\n",
       "      <td>Daylight</td>\n",
       "      <td>NaN</td>\n",
       "      <td>NaN</td>\n",
       "      <td>NaN</td>\n",
       "      <td>10</td>\n",
       "      <td>Entering at angle</td>\n",
       "      <td>0</td>\n",
       "      <td>0</td>\n",
       "      <td>N</td>\n",
       "    </tr>\n",
       "    <tr>\n",
       "      <th>1</th>\n",
       "      <td>1</td>\n",
       "      <td>-122.347294</td>\n",
       "      <td>47.647172</td>\n",
       "      <td>2</td>\n",
       "      <td>52200</td>\n",
       "      <td>52200</td>\n",
       "      <td>2607959</td>\n",
       "      <td>Matched</td>\n",
       "      <td>Block</td>\n",
       "      <td>NaN</td>\n",
       "      <td>...</td>\n",
       "      <td>Wet</td>\n",
       "      <td>Dark - Street Lights On</td>\n",
       "      <td>NaN</td>\n",
       "      <td>6354039.0</td>\n",
       "      <td>NaN</td>\n",
       "      <td>11</td>\n",
       "      <td>From same direction - both going straight - bo...</td>\n",
       "      <td>0</td>\n",
       "      <td>0</td>\n",
       "      <td>N</td>\n",
       "    </tr>\n",
       "    <tr>\n",
       "      <th>2</th>\n",
       "      <td>1</td>\n",
       "      <td>-122.334540</td>\n",
       "      <td>47.607871</td>\n",
       "      <td>3</td>\n",
       "      <td>26700</td>\n",
       "      <td>26700</td>\n",
       "      <td>1482393</td>\n",
       "      <td>Matched</td>\n",
       "      <td>Block</td>\n",
       "      <td>NaN</td>\n",
       "      <td>...</td>\n",
       "      <td>Dry</td>\n",
       "      <td>Daylight</td>\n",
       "      <td>NaN</td>\n",
       "      <td>4323031.0</td>\n",
       "      <td>NaN</td>\n",
       "      <td>32</td>\n",
       "      <td>One parked--one moving</td>\n",
       "      <td>0</td>\n",
       "      <td>0</td>\n",
       "      <td>N</td>\n",
       "    </tr>\n",
       "    <tr>\n",
       "      <th>3</th>\n",
       "      <td>1</td>\n",
       "      <td>-122.334803</td>\n",
       "      <td>47.604803</td>\n",
       "      <td>4</td>\n",
       "      <td>1144</td>\n",
       "      <td>1144</td>\n",
       "      <td>3503937</td>\n",
       "      <td>Matched</td>\n",
       "      <td>Block</td>\n",
       "      <td>NaN</td>\n",
       "      <td>...</td>\n",
       "      <td>Dry</td>\n",
       "      <td>Daylight</td>\n",
       "      <td>NaN</td>\n",
       "      <td>NaN</td>\n",
       "      <td>NaN</td>\n",
       "      <td>23</td>\n",
       "      <td>From same direction - all others</td>\n",
       "      <td>0</td>\n",
       "      <td>0</td>\n",
       "      <td>N</td>\n",
       "    </tr>\n",
       "    <tr>\n",
       "      <th>4</th>\n",
       "      <td>2</td>\n",
       "      <td>-122.306426</td>\n",
       "      <td>47.545739</td>\n",
       "      <td>5</td>\n",
       "      <td>17700</td>\n",
       "      <td>17700</td>\n",
       "      <td>1807429</td>\n",
       "      <td>Matched</td>\n",
       "      <td>Intersection</td>\n",
       "      <td>34387.0</td>\n",
       "      <td>...</td>\n",
       "      <td>Wet</td>\n",
       "      <td>Daylight</td>\n",
       "      <td>NaN</td>\n",
       "      <td>4028032.0</td>\n",
       "      <td>NaN</td>\n",
       "      <td>10</td>\n",
       "      <td>Entering at angle</td>\n",
       "      <td>0</td>\n",
       "      <td>0</td>\n",
       "      <td>N</td>\n",
       "    </tr>\n",
       "  </tbody>\n",
       "</table>\n",
       "<p>5 rows × 38 columns</p>\n",
       "</div>"
      ],
      "text/plain": [
       "   SEVERITYCODE           X          Y  OBJECTID  INCKEY  COLDETKEY REPORTNO  \\\n",
       "0             2 -122.323148  47.703140         1    1307       1307  3502005   \n",
       "1             1 -122.347294  47.647172         2   52200      52200  2607959   \n",
       "2             1 -122.334540  47.607871         3   26700      26700  1482393   \n",
       "3             1 -122.334803  47.604803         4    1144       1144  3503937   \n",
       "4             2 -122.306426  47.545739         5   17700      17700  1807429   \n",
       "\n",
       "    STATUS      ADDRTYPE   INTKEY  ... ROADCOND                LIGHTCOND  \\\n",
       "0  Matched  Intersection  37475.0  ...      Wet                 Daylight   \n",
       "1  Matched         Block      NaN  ...      Wet  Dark - Street Lights On   \n",
       "2  Matched         Block      NaN  ...      Dry                 Daylight   \n",
       "3  Matched         Block      NaN  ...      Dry                 Daylight   \n",
       "4  Matched  Intersection  34387.0  ...      Wet                 Daylight   \n",
       "\n",
       "  PEDROWNOTGRNT  SDOTCOLNUM SPEEDING ST_COLCODE  \\\n",
       "0           NaN         NaN      NaN         10   \n",
       "1           NaN   6354039.0      NaN         11   \n",
       "2           NaN   4323031.0      NaN         32   \n",
       "3           NaN         NaN      NaN         23   \n",
       "4           NaN   4028032.0      NaN         10   \n",
       "\n",
       "                                          ST_COLDESC  SEGLANEKEY  \\\n",
       "0                                  Entering at angle           0   \n",
       "1  From same direction - both going straight - bo...           0   \n",
       "2                             One parked--one moving           0   \n",
       "3                   From same direction - all others           0   \n",
       "4                                  Entering at angle           0   \n",
       "\n",
       "   CROSSWALKKEY  HITPARKEDCAR  \n",
       "0             0             N  \n",
       "1             0             N  \n",
       "2             0             N  \n",
       "3             0             N  \n",
       "4             0             N  \n",
       "\n",
       "[5 rows x 38 columns]"
      ]
     },
     "execution_count": 4,
     "metadata": {},
     "output_type": "execute_result"
    }
   ],
   "source": [
    "df_orig.head()"
   ]
  },
  {
   "cell_type": "code",
   "execution_count": 5,
   "metadata": {},
   "outputs": [
    {
     "data": {
      "text/plain": [
       "189661"
      ]
     },
     "execution_count": 5,
     "metadata": {},
     "output_type": "execute_result"
    }
   ],
   "source": [
    "df_orig[\"ROADCOND\"].value_counts().sum()"
   ]
  },
  {
   "cell_type": "code",
   "execution_count": 6,
   "metadata": {},
   "outputs": [
    {
     "data": {
      "text/plain": [
       "1    136485\n",
       "2     58188\n",
       "Name: SEVERITYCODE, dtype: int64"
      ]
     },
     "execution_count": 6,
     "metadata": {},
     "output_type": "execute_result"
    }
   ],
   "source": [
    "df_orig.SEVERITYCODE.value_counts()"
   ]
  },
  {
   "cell_type": "code",
   "execution_count": 140,
   "metadata": {},
   "outputs": [
    {
     "data": {
      "text/plain": [
       "Index(['SEVERITYCODE', 'X', 'Y', 'OBJECTID', 'INCKEY', 'COLDETKEY', 'REPORTNO',\n",
       "       'STATUS', 'ADDRTYPE', 'INTKEY', 'LOCATION', 'EXCEPTRSNCODE',\n",
       "       'EXCEPTRSNDESC', 'SEVERITYCODE.1', 'SEVERITYDESC', 'COLLISIONTYPE',\n",
       "       'PERSONCOUNT', 'PEDCOUNT', 'PEDCYLCOUNT', 'VEHCOUNT', 'INCDATE',\n",
       "       'INCDTTM', 'JUNCTIONTYPE', 'SDOT_COLCODE', 'SDOT_COLDESC',\n",
       "       'INATTENTIONIND', 'UNDERINFL', 'WEATHER', 'ROADCOND', 'LIGHTCOND',\n",
       "       'PEDROWNOTGRNT', 'SDOTCOLNUM', 'SPEEDING', 'ST_COLCODE', 'ST_COLDESC',\n",
       "       'SEGLANEKEY', 'CROSSWALKKEY', 'HITPARKEDCAR'],\n",
       "      dtype='object')"
      ]
     },
     "execution_count": 140,
     "metadata": {},
     "output_type": "execute_result"
    }
   ],
   "source": [
    "df_orig.columns"
   ]
  },
  {
   "cell_type": "code",
   "execution_count": 148,
   "metadata": {},
   "outputs": [
    {
     "data": {
      "text/html": [
       "<div>\n",
       "<style scoped>\n",
       "    .dataframe tbody tr th:only-of-type {\n",
       "        vertical-align: middle;\n",
       "    }\n",
       "\n",
       "    .dataframe tbody tr th {\n",
       "        vertical-align: top;\n",
       "    }\n",
       "\n",
       "    .dataframe thead th {\n",
       "        text-align: right;\n",
       "    }\n",
       "</style>\n",
       "<table border=\"1\" class=\"dataframe\">\n",
       "  <thead>\n",
       "    <tr style=\"text-align: right;\">\n",
       "      <th></th>\n",
       "      <th>x</th>\n",
       "      <th>y</th>\n",
       "      <th>code</th>\n",
       "    </tr>\n",
       "  </thead>\n",
       "  <tbody>\n",
       "    <tr>\n",
       "      <th>0</th>\n",
       "      <td>-122.332653</td>\n",
       "      <td>47.708655</td>\n",
       "      <td>265</td>\n",
       "    </tr>\n",
       "    <tr>\n",
       "      <th>1</th>\n",
       "      <td>-122.344896</td>\n",
       "      <td>47.717173</td>\n",
       "      <td>254</td>\n",
       "    </tr>\n",
       "    <tr>\n",
       "      <th>2</th>\n",
       "      <td>-122.328079</td>\n",
       "      <td>47.604161</td>\n",
       "      <td>252</td>\n",
       "    </tr>\n",
       "    <tr>\n",
       "      <th>3</th>\n",
       "      <td>-122.344997</td>\n",
       "      <td>47.725036</td>\n",
       "      <td>239</td>\n",
       "    </tr>\n",
       "    <tr>\n",
       "      <th>4</th>\n",
       "      <td>-122.299160</td>\n",
       "      <td>47.579673</td>\n",
       "      <td>231</td>\n",
       "    </tr>\n",
       "  </tbody>\n",
       "</table>\n",
       "</div>"
      ],
      "text/plain": [
       "            x          y  code\n",
       "0 -122.332653  47.708655   265\n",
       "1 -122.344896  47.717173   254\n",
       "2 -122.328079  47.604161   252\n",
       "3 -122.344997  47.725036   239\n",
       "4 -122.299160  47.579673   231"
      ]
     },
     "execution_count": 148,
     "metadata": {},
     "output_type": "execute_result"
    }
   ],
   "source": [
    "geo = pd.DataFrame()\n",
    "geo['x'] = df_orig.X.dropna()\n",
    "geo['y'] = df_orig.Y.dropna()\n",
    "geo['code'] = df_orig['SEVERITYCODE'].dropna()\n",
    "geo = geo.groupby(by= ['x', 'y']).count().sort_values(by = 'code', ascending=False)\n",
    "geo.reset_index(inplace = True)\n",
    "geo.head()"
   ]
  },
  {
   "cell_type": "code",
   "execution_count": 149,
   "metadata": {},
   "outputs": [
    {
     "data": {
      "text/plain": [
       "{'whiskers': [<matplotlib.lines.Line2D at 0x24bb5336848>,\n",
       "  <matplotlib.lines.Line2D at 0x24bb5336548>],\n",
       " 'caps': [<matplotlib.lines.Line2D at 0x24bb5336b88>,\n",
       "  <matplotlib.lines.Line2D at 0x24bb53e6ac8>],\n",
       " 'boxes': [<matplotlib.lines.Line2D at 0x24bb5344e08>],\n",
       " 'medians': [<matplotlib.lines.Line2D at 0x24bb53e6a88>],\n",
       " 'fliers': [<matplotlib.lines.Line2D at 0x24bb53e2688>],\n",
       " 'means': []}"
      ]
     },
     "execution_count": 149,
     "metadata": {},
     "output_type": "execute_result"
    },
    {
     "data": {
      "image/png": "[encoded data removed]",
      "text/plain": [
       "<Figure size 1440x432 with 1 Axes>"
      ]
     },
     "metadata": {
      "needs_background": "light"
     },
     "output_type": "display_data"
    }
   ],
   "source": [
    "plt.figure(figsize = (20, 6))\n",
    "plt.boxplot(geo.code, vert=False)"
   ]
  },
  {
   "cell_type": "code",
   "execution_count": 151,
   "metadata": {},
   "outputs": [
    {
     "data": {
      "text/plain": [
       "<matplotlib.axes._subplots.AxesSubplot at 0x24bb5361088>"
      ]
     },
     "execution_count": 151,
     "metadata": {},
     "output_type": "execute_result"
    },
    {
     "data": {
      "image/png": "[encoded data removed]",
      "text/plain": [
       "<Figure size 432x288 with 1 Axes>"
      ]
     },
     "metadata": {
      "needs_background": "light"
     },
     "output_type": "display_data"
    }
   ],
   "source": [
    "geo.code.hist(bins = 200)"
   ]
  },
  {
   "cell_type": "code",
   "execution_count": 9,
   "metadata": {},
   "outputs": [
    {
     "name": "stdout",
     "output_type": "stream",
     "text": [
      "Requirement already satisfied: folium in c:\\users\\kruzh\\anaconda3\\lib\\site-packages (0.11.0)\n",
      "Requirement already satisfied: requests in c:\\users\\kruzh\\anaconda3\\lib\\site-packages (from folium) (2.22.0)\n",
      "Requirement already satisfied: branca>=0.3.0 in c:\\users\\kruzh\\anaconda3\\lib\\site-packages (from folium) (0.4.1)\n",
      "Requirement already satisfied: numpy in c:\\users\\kruzh\\anaconda3\\lib\\site-packages (from folium) (1.18.1)\n",
      "Requirement already satisfied: jinja2>=2.9 in c:\\users\\kruzh\\anaconda3\\lib\\site-packages (from folium) (2.11.1)\n",
      "Requirement already satisfied: certifi>=2017.4.17 in c:\\users\\kruzh\\anaconda3\\lib\\site-packages (from requests->folium) (2019.11.28)\n",
      "Requirement already satisfied: urllib3!=1.25.0,!=1.25.1,<1.26,>=1.21.1 in c:\\users\\kruzh\\anaconda3\\lib\\site-packages (from requests->folium) (1.25.8)\n",
      "Requirement already satisfied: idna<2.9,>=2.5 in c:\\users\\kruzh\\anaconda3\\lib\\site-packages (from requests->folium) (2.8)\n",
      "Requirement already satisfied: chardet<3.1.0,>=3.0.2 in c:\\users\\kruzh\\anaconda3\\lib\\site-packages (from requests->folium) (3.0.4)\n",
      "Requirement already satisfied: MarkupSafe>=0.23 in c:\\users\\kruzh\\anaconda3\\lib\\site-packages (from jinja2>=2.9->folium) (1.1.1)\n"
     ]
    }
   ],
   "source": [
    "!pip install folium"
   ]
  },
  {
   "cell_type": "code",
   "execution_count": 141,
   "metadata": {},
   "outputs": [
    {
     "data": {
      "text/html": [
       "<div style=\"width:100%;\"><div style=\"position:relative;width:100%;height:0;padding-bottom:60%;\"><span style=\"color:#565656\">Make this Notebook Trusted to load map: File -> Trust Notebook</span><iframe src=\"about:blank\" style=\"position:absolute;width:100%;height:100%;left:0;top:0;border:none !important;\" data-html=PCFET0NUWVBFIGh0bWw+CjxoZWFkPiAgICAKICAgIDxtZXRhIGh0dHAtZXF1aXY9ImNvbnRlbnQtdHlwZSIgY29udGVudD0idGV4dC9odG1sOyBjaGFyc2V0PVVURi04IiAvPgogICAgCiAgICAgICAgPHNjcmlwdD4KICAgICAgICAgICAgTF9OT19UT1VDSCA9IGZhbHNlOwogICAgICAgICAgICBMX0RJU0FCTEVfM0QgPSBmYWxzZTsKICAgICAgICA8L3NjcmlwdD4KICAgIAogICAgPHNjcmlwdCBzcmM9Imh0dHBzOi8vY2RuLmpzZGVsaXZyLm5ldC9ucG0vbGVhZmxldEAxLjYuMC9kaXN0L2xlYWZsZXQuanMiPjwvc2NyaXB0PgogICAgPHNjcmlwdCBzcmM9Imh0dHBzOi8vY29kZS5qcXVlcnkuY29tL2pxdWVyeS0xLjEyLjQubWluLmpzIj48L3NjcmlwdD4KICAgIDxzY3JpcHQgc3JjPSJodHRwczovL21heGNkbi5ib290c3RyYXBjZG4uY29tL2Jvb3RzdHJhcC8zLjIuMC9qcy9ib290c3RyYXAubWluLmpzIj48L3NjcmlwdD4KICAgIDxzY3JpcHQgc3JjPSJodHRwczovL2NkbmpzLmNsb3VkZmxhcmUuY29tL2FqYXgvbGlicy9MZWFmbGV0LmF3ZXNvbWUtbWFya2Vycy8yLjAuMi9sZWFmbGV0LmF3ZXNvbWUtbWFya2Vycy5qcyI+PC9zY3JpcHQ+CiAgICA8bGluayByZWw9InN0eWxlc2hlZXQiIGhyZWY9Imh0dHBzOi8vY2RuLmpzZGVsaXZyLm5ldC9ucG0vbGVhZmxldEAxLjYuMC9kaXN0L2xlYWZsZXQuY3NzIi8+CiAgICA8bGluayByZWw9InN0eWxlc2hlZXQiIGhyZWY9Imh0dHBzOi8vbWF4Y2RuLmJvb3RzdHJhcGNkbi5jb20vYm9vdHN0cmFwLzMuMi4wL2Nzcy9ib290c3RyYXAubWluLmNzcyIvPgogICAgPGxpbmsgcmVsPSJzdHlsZXNoZWV0IiBocmVmPSJodHRwczovL21heGNkbi5ib290c3RyYXBjZG4uY29tL2Jvb3RzdHJhcC8zLjIuMC9jc3MvYm9vdHN0cmFwLXRoZW1lLm1pbi5jc3MiLz4KICAgIDxsaW5rIHJlbD0ic3R5bGVzaGVldCIgaHJlZj0iaHR0cHM6Ly9tYXhjZG4uYm9vdHN0cmFwY2RuLmNvbS9mb250LWF3ZXNvbWUvNC42LjMvY3NzL2ZvbnQtYXdlc29tZS5taW4uY3NzIi8+CiAgICA8bGluayByZWw9InN0eWxlc2hlZXQiIGhyZWY9Imh0dHBzOi8vY2RuanMuY2xvdWRmbGFyZS5jb20vYWpheC9saWJzL0xlYWZsZXQuYXdlc29tZS1tYXJrZXJzLzIuMC4yL2xlYWZsZXQuYXdlc29tZS1tYXJrZXJzLmNzcyIvPgogICAgPGxpbmsgcmVsPSJzdHlsZXNoZWV0IiBocmVmPSJodHRwczovL3Jhd2Nkbi5naXRoYWNrLmNvbS9weXRob24tdmlzdWFsaXphdGlvbi9mb2xpdW0vbWFzdGVyL2ZvbGl1bS90ZW1wbGF0ZXMvbGVhZmxldC5hd2Vzb21lLnJvdGF0ZS5jc3MiLz4KICAgIDxzdHlsZT5odG1sLCBib2R5IHt3aWR0aDogMTAwJTtoZWlnaHQ6IDEwMCU7bWFyZ2luOiAwO3BhZGRpbmc6IDA7fTwvc3R5bGU+CiAgICA8c3R5bGU+I21hcCB7cG9zaXRpb246YWJzb2x1dGU7dG9wOjA7Ym90dG9tOjA7cmlnaHQ6MDtsZWZ0OjA7fTwvc3R5bGU+CiAgICAKICAgICAgICAgICAgPG1ldGEgbmFtZT0idmlld3BvcnQiIGNvbnRlbnQ9IndpZHRoPWRldmljZS13aWR0aCwKICAgICAgICAgICAgICAgIGluaXRpYWwtc2NhbGU9MS4wLCBtYXhpbXVtLXNjYWxlPTEuMCwgdXNlci1zY2FsYWJsZT1ubyIgLz4KICAgICAgICAgICAgPHN0eWxlPgogICAgICAgICAgICAgICAgI21hcF9iYWRmZmJjOWI2NGM0NmI0YTcwN2Q0MTM0YWFkNjk4MiB7CiAgICAgICAgICAgICAgICAgICAgcG9zaXRpb246IHJlbGF0aXZlOwogICAgICAgICAgICAgICAgICAgIHdpZHRoOiAxMDAuMCU7CiAgICAgICAgICAgICAgICAgICAgaGVpZ2h0OiAxMDAuMCU7CiAgICAgICAgICAgICAgICAgICAgbGVmdDogMC4wJTsKICAgICAgICAgICAgICAgICAgICB0b3A6IDAuMCU7CiAgICAgICAgICAgICAgICB9CiAgICAgICAgICAgIDwvc3R5bGU+CiAgICAgICAgCjwvaGVhZD4KPGJvZHk+ICAgIAogICAgCiAgICAgICAgICAgIDxkaXYgY2xhc3M9ImZvbGl1bS1tYXAiIGlkPSJtYXBfYmFkZmZiYzliNjRjNDZiNGE3MDdkNDEzNGFhZDY5ODIiID48L2Rpdj4KICAgICAgICAKPC9ib2R5Pgo8c2NyaXB0PiAgICAKICAgIAogICAgICAgICAgICB2YXIgbWFwX2JhZGZmYmM5YjY0YzQ2YjRhNzA3ZDQxMzRhYWQ2OTgyID0gTC5tYXAoCiAgICAgICAgICAgICAgICAibWFwX2JhZGZmYmM5YjY0YzQ2YjRhNzA3ZDQxMzRhYWQ2OTgyIiwKICAgICAgICAgICAgICAgIHsKICAgICAgICAgICAgICAgICAgICBjZW50ZXI6IFs0Ny42MjE2Mjc3MDg4NjY5LCAtMTIyLjMzMTgyOTY4NTMxMjldLAogICAgICAgICAgICAgICAgICAgIGNyczogTC5DUlMuRVBTRzM4NTcsCiAgICAgICAgICAgICAgICAgICAgem9vbTogMTEsCiAgICAgICAgICAgICAgICAgICAgem9vbUNvbnRyb2w6IHRydWUsCiAgICAgICAgICAgICAgICAgICAgcHJlZmVyQ2FudmFzOiBmYWxzZSwKICAgICAgICAgICAgICAgIH0KICAgICAgICAgICAgKTsKCiAgICAgICAgICAgIAoKICAgICAgICAKICAgIAogICAgICAgICAgICB2YXIgdGlsZV9sYXllcl9lNDBkNzEyOTJiODA0OGI1YjhhNWY0ZmRmZjE4N2UxMyA9IEwudGlsZUxheWVyKAogICAgICAgICAgICAgICAgImh0dHBzOi8ve3N9LnRpbGUub3BlbnN0cmVldG1hcC5vcmcve3p9L3t4fS97eX0ucG5nIiwKICAgICAgICAgICAgICAgIHsiYXR0cmlidXRpb24iOiAiRGF0YSBieSBcdTAwMjZjb3B5OyBcdTAwM2NhIGhyZWY9XCJodHRwOi8vb3BlbnN0cmVldG1hcC5vcmdcIlx1MDAzZU9wZW5TdHJlZXRNYXBcdTAwM2MvYVx1MDAzZSwgdW5kZXIgXHUwMDNjYSBocmVmPVwiaHR0cDovL3d3dy5vcGVuc3RyZWV0bWFwLm9yZy9jb3B5cmlnaHRcIlx1MDAzZU9EYkxcdTAwM2MvYVx1MDAzZS4iLCAiZGV0ZWN0UmV0aW5hIjogZmFsc2UsICJtYXhOYXRpdmVab29tIjogMTgsICJtYXhab29tIjogMTgsICJtaW5ab29tIjogMCwgIm5vV3JhcCI6IGZhbHNlLCAib3BhY2l0eSI6IDEsICJzdWJkb21haW5zIjogImFiYyIsICJ0bXMiOiBmYWxzZX0KICAgICAgICAgICAgKS5hZGRUbyhtYXBfYmFkZmZiYzliNjRjNDZiNGE3MDdkNDEzNGFhZDY5ODIpOwogICAgICAgIAogICAgCiAgICAgICAgICAgIHZhciBtYXJrZXJfODcwYjkzMzVlMGJlNDVkZmFmMGJhZGJmM2U3OWU4ZmIgPSBMLm1hcmtlcigKICAgICAgICAgICAgICAgIFs0Ny43MDg2NTQ1LCAtMTIyLjMzMjY1MzNdLAogICAgICAgICAgICAgICAge30KICAgICAgICAgICAgKS5hZGRUbyhtYXBfYmFkZmZiYzliNjRjNDZiNGE3MDdkNDEzNGFhZDY5ODIpOwogICAgICAgIAogICAgCiAgICAgICAgICAgIHZhciBpY29uX2U3OWFiYTJkZjc5ODQxNjI4NTA2NTgxNjY0MDI1ZGRiID0gTC5Bd2Vzb21lTWFya2Vycy5pY29uKAogICAgICAgICAgICAgICAgeyJleHRyYUNsYXNzZXMiOiAiZmEtcm90YXRlLTAiLCAiaWNvbiI6ICJpbmZvLXNpZ24iLCAiaWNvbkNvbG9yIjogIndoaXRlIiwgIm1hcmtlckNvbG9yIjogImJsdWUiLCAicHJlZml4IjogImdseXBoaWNvbiJ9CiAgICAgICAgICAgICk7CiAgICAgICAgICAgIG1hcmtlcl84NzBiOTMzNWUwYmU0NWRmYWYwYmFkYmYzZTc5ZThmYi5zZXRJY29uKGljb25fZTc5YWJhMmRmNzk4NDE2Mjg1MDY1ODE2NjQwMjVkZGIpOwogICAgICAgIAogICAgCiAgICAgICAgICAgIHZhciBtYXJrZXJfMzBhODI4ODAwYTlmNDY4NTk2ZDU4MjFlM2M4MmI0NTAgPSBMLm1hcmtlcigKICAgICAgICAgICAgICAgIFs0Ny43MTcxNzMxMDAwMDAwMDQsIC0xMjIuMzQ0ODk2MDk5OTk5OTldLAogICAgICAgICAgICAgICAge30KICAgICAgICAgICAgKS5hZGRUbyhtYXBfYmFkZmZiYzliNjRjNDZiNGE3MDdkNDEzNGFhZDY5ODIpOwogICAgICAgIAogICAgCiAgICAgICAgICAgIHZhciBpY29uXzJjNjVkM2ZlYTI0NDRlNmQ5M2RkNjQ1YjZhYzc5NGU0ID0gTC5Bd2Vzb21lTWFya2Vycy5pY29uKAogICAgICAgICAgICAgICAgeyJleHRyYUNsYXNzZXMiOiAiZmEtcm90YXRlLTAiLCAiaWNvbiI6ICJpbmZvLXNpZ24iLCAiaWNvbkNvbG9yIjogIndoaXRlIiwgIm1hcmtlckNvbG9yIjogImJsdWUiLCAicHJlZml4IjogImdseXBoaWNvbiJ9CiAgICAgICAgICAgICk7CiAgICAgICAgICAgIG1hcmtlcl8zMGE4Mjg4MDBhOWY0Njg1OTZkNTgyMWUzYzgyYjQ1MC5zZXRJY29uKGljb25fMmM2NWQzZmVhMjQ0NGU2ZDkzZGQ2NDViNmFjNzk0ZTQpOwogICAgICAgIAogICAgCiAgICAgICAgICAgIHZhciBtYXJrZXJfODZhZjhiZjVlNDM1NGI2NDg3MTAwN2QzNmRiYjg2MzYgPSBMLm1hcmtlcigKICAgICAgICAgICAgICAgIFs0Ny42MDQxNjEyMywgLTEyMi4zMjgwNzg1OTk5OTk5OF0sCiAgICAgICAgICAgICAgICB7fQogICAgICAgICAgICApLmFkZFRvKG1hcF9iYWRmZmJjOWI2NGM0NmI0YTcwN2Q0MTM0YWFkNjk4Mik7CiAgICAgICAgCiAgICAKICAgICAgICAgICAgdmFyIGljb25fNzhiMzcwZjEwNDdiNDllM2I1YzExN2VkODdmZmMyODQgPSBMLkF3ZXNvbWVNYXJrZXJzLmljb24oCiAgICAgICAgICAgICAgICB7ImV4dHJhQ2xhc3NlcyI6ICJmYS1yb3RhdGUtMCIsICJpY29uIjogImluZm8tc2lnbiIsICJpY29uQ29sb3IiOiAid2hpdGUiLCAibWFya2VyQ29sb3IiOiAiYmx1ZSIsICJwcmVmaXgiOiAiZ2x5cGhpY29uIn0KICAgICAgICAgICAgKTsKICAgICAgICAgICAgbWFya2VyXzg2YWY4YmY1ZTQzNTRiNjQ4NzEwMDdkMzZkYmI4NjM2LnNldEljb24oaWNvbl83OGIzNzBmMTA0N2I0OWUzYjVjMTE3ZWQ4N2ZmYzI4NCk7CiAgICAgICAgCiAgICAKICAgICAgICAgICAgdmFyIG1hcmtlcl8xNjk2NWYwYWY0ODg0ODY4OTYwYTI3MGI3ODcyYmNjMSA9IEwubWFya2VyKAogICAgICAgICAgICAgICAgWzQ3LjcyNTAzNTU1LCAtMTIyLjM0NDk5Njc5OTk5OTk5XSwKICAgICAgICAgICAgICAgIHt9CiAgICAgICAgICAgICkuYWRkVG8obWFwX2JhZGZmYmM5YjY0YzQ2YjRhNzA3ZDQxMzRhYWQ2OTgyKTsKICAgICAgICAKICAgIAogICAgICAgICAgICB2YXIgaWNvbl9iYjY5ZTM0MDIwOGY0MWEwOGIwNmNkMjgzNzAxYmMyOSA9IEwuQXdlc29tZU1hcmtlcnMuaWNvbigKICAgICAgICAgICAgICAgIHsiZXh0cmFDbGFzc2VzIjogImZhLXJvdGF0ZS0wIiwgImljb24iOiAiaW5mby1zaWduIiwgImljb25Db2xvciI6ICJ3aGl0ZSIsICJtYXJrZXJDb2xvciI6ICJibHVlIiwgInByZWZpeCI6ICJnbHlwaGljb24ifQogICAgICAgICAgICApOwogICAgICAgICAgICBtYXJrZXJfMTY5NjVmMGFmNDg4NDg2ODk2MGEyNzBiNzg3MmJjYzEuc2V0SWNvbihpY29uX2JiNjllMzQwMjA4ZjQxYTA4YjA2Y2QyODM3MDFiYzI5KTsKICAgICAgICAKICAgIAogICAgICAgICAgICB2YXIgbWFya2VyX2YxYjcwNzdiOTcxMjQyMmM5NGUyMzMxMjAzNWY3ZWU0ID0gTC5tYXJrZXIoCiAgICAgICAgICAgICAgICBbNDcuNTc5NjczNDYsIC0xMjIuMjk5MTU5N10sCiAgICAgICAgICAgICAgICB7fQogICAgICAgICAgICApLmFkZFRvKG1hcF9iYWRmZmJjOWI2NGM0NmI0YTcwN2Q0MTM0YWFkNjk4Mik7CiAgICAgICAgCiAgICAKICAgICAgICAgICAgdmFyIGljb25fOWQ4YWEyNTlmNzk0NGRlZTg4ZThiMTcxY2IyMjJkNjkgPSBMLkF3ZXNvbWVNYXJrZXJzLmljb24oCiAgICAgICAgICAgICAgICB7ImV4dHJhQ2xhc3NlcyI6ICJmYS1yb3RhdGUtMCIsICJpY29uIjogImluZm8tc2lnbiIsICJpY29uQ29sb3IiOiAid2hpdGUiLCAibWFya2VyQ29sb3IiOiAiYmx1ZSIsICJwcmVmaXgiOiAiZ2x5cGhpY29uIn0KICAgICAgICAgICAgKTsKICAgICAgICAgICAgbWFya2VyX2YxYjcwNzdiOTcxMjQyMmM5NGUyMzMxMjAzNWY3ZWU0LnNldEljb24oaWNvbl85ZDhhYTI1OWY3OTQ0ZGVlODhlOGIxNzFjYjIyMmQ2OSk7CiAgICAgICAgCiAgICAKICAgICAgICAgICAgdmFyIG1hcmtlcl8yYzVlYmViNTI4Yjg0YmRmYjM2ZTMyYWI4NmMyYzljYiA9IEwubWFya2VyKAogICAgICAgICAgICAgICAgWzQ3LjU3MDk0MTc4LCAtMTIyLjM1MTEzMzkwMDAwMDAyXSwKICAgICAgICAgICAgICAgIHt9CiAgICAgICAgICAgICkuYWRkVG8obWFwX2JhZGZmYmM5YjY0YzQ2YjRhNzA3ZDQxMzRhYWQ2OTgyKTsKICAgICAgICAKICAgIAogICAgICAgICAgICB2YXIgaWNvbl8wNGRiNWYxMDg5M2E0YTVmYWNkNmRiNjQ5N2I5NzIzYiA9IEwuQXdlc29tZU1hcmtlcnMuaWNvbigKICAgICAgICAgICAgICAgIHsiZXh0cmFDbGFzc2VzIjogImZhLXJvdGF0ZS0wIiwgImljb24iOiAiaW5mby1zaWduIiwgImljb25Db2xvciI6ICJ3aGl0ZSIsICJtYXJrZXJDb2xvciI6ICJibHVlIiwgInByZWZpeCI6ICJnbHlwaGljb24ifQogICAgICAgICAgICApOwogICAgICAgICAgICBtYXJrZXJfMmM1ZWJlYjUyOGI4NGJkZmIzNmUzMmFiODZjMmM5Y2Iuc2V0SWNvbihpY29uXzA0ZGI1ZjEwODkzYTRhNWZhY2Q2ZGI2NDk3Yjk3MjNiKTsKICAgICAgICAKICAgIAogICAgICAgICAgICB2YXIgbWFya2VyXzBhYTMyYTc5ODY5YzQ2ODM4MTUxM2E2M2MwOTIyODRkID0gTC5tYXJrZXIoCiAgICAgICAgICAgICAgICBbNDcuNjQ3MTcyNDksIC0xMjIuMzQ3Mjk0M10sCiAgICAgICAgICAgICAgICB7fQogICAgICAgICAgICApLmFkZFRvKG1hcF9iYWRmZmJjOWI2NGM0NmI0YTcwN2Q0MTM0YWFkNjk4Mik7CiAgICAgICAgCiAgICAKICAgICAgICAgICAgdmFyIGljb25fMmJmZmQzMDY4M2VlNDIxMGFkYTU5MTI3ZDk3OTE0NjAgPSBMLkF3ZXNvbWVNYXJrZXJzLmljb24oCiAgICAgICAgICAgICAgICB7ImV4dHJhQ2xhc3NlcyI6ICJmYS1yb3RhdGUtMCIsICJpY29uIjogImluZm8tc2lnbiIsICJpY29uQ29sb3IiOiAid2hpdGUiLCAibWFya2VyQ29sb3IiOiAiYmx1ZSIsICJwcmVmaXgiOiAiZ2x5cGhpY29uIn0KICAgICAgICAgICAgKTsKICAgICAgICAgICAgbWFya2VyXzBhYTMyYTc5ODY5YzQ2ODM4MTUxM2E2M2MwOTIyODRkLnNldEljb24oaWNvbl8yYmZmZDMwNjgzZWU0MjEwYWRhNTkxMjdkOTc5MTQ2MCk7CiAgICAgICAgCiAgICAKICAgICAgICAgICAgdmFyIG1hcmtlcl9jYWE1ZWUxNzg1NzU0ZjIyYmQzMGNkZTEzZjAwYjhhMiA9IEwubWFya2VyKAogICAgICAgICAgICAgICAgWzQ3LjYxMjk5MDgxLCAtMTIyLjM0NTg2MzFdLAogICAgICAgICAgICAgICAge30KICAgICAgICAgICAgKS5hZGRUbyhtYXBfYmFkZmZiYzliNjRjNDZiNGE3MDdkNDEzNGFhZDY5ODIpOwogICAgICAgIAogICAgCiAgICAgICAgICAgIHZhciBpY29uX2IzNmY1NGY5ZmQzNDQzYWJhZTAyZmFhNzU3ZjBmODViID0gTC5Bd2Vzb21lTWFya2Vycy5pY29uKAogICAgICAgICAgICAgICAgeyJleHRyYUNsYXNzZXMiOiAiZmEtcm90YXRlLTAiLCAiaWNvbiI6ICJpbmZvLXNpZ24iLCAiaWNvbkNvbG9yIjogIndoaXRlIiwgIm1hcmtlckNvbG9yIjogImJsdWUiLCAicHJlZml4IjogImdseXBoaWNvbiJ9CiAgICAgICAgICAgICk7CiAgICAgICAgICAgIG1hcmtlcl9jYWE1ZWUxNzg1NzU0ZjIyYmQzMGNkZTEzZjAwYjhhMi5zZXRJY29uKGljb25fYjM2ZjU0ZjlmZDM0NDNhYmFlMDJmYWE3NTdmMGY4NWIpOwogICAgICAgIAogICAgCiAgICAgICAgICAgIHZhciBtYXJrZXJfZjQxZGQ0N2YwMTMzNGQ2Yjk5ZmI0NDNjODU0YmU0OGYgPSBMLm1hcmtlcigKICAgICAgICAgICAgICAgIFs0Ny42MDcyNjYzMSwgLTEyMi4zMzI0NTEzXSwKICAgICAgICAgICAgICAgIHt9CiAgICAgICAgICAgICkuYWRkVG8obWFwX2JhZGZmYmM5YjY0YzQ2YjRhNzA3ZDQxMzRhYWQ2OTgyKTsKICAgICAgICAKICAgIAogICAgICAgICAgICB2YXIgaWNvbl85ZDkyNTcwNmUxYWQ0NTA1YjU5YjE1OGExZjIxM2UwNSA9IEwuQXdlc29tZU1hcmtlcnMuaWNvbigKICAgICAgICAgICAgICAgIHsiZXh0cmFDbGFzc2VzIjogImZhLXJvdGF0ZS0wIiwgImljb24iOiAiaW5mby1zaWduIiwgImljb25Db2xvciI6ICJ3aGl0ZSIsICJtYXJrZXJDb2xvciI6ICJibHVlIiwgInByZWZpeCI6ICJnbHlwaGljb24ifQogICAgICAgICAgICApOwogICAgICAgICAgICBtYXJrZXJfZjQxZGQ0N2YwMTMzNGQ2Yjk5ZmI0NDNjODU0YmU0OGYuc2V0SWNvbihpY29uXzlkOTI1NzA2ZTFhZDQ1MDViNTliMTU4YTFmMjEzZTA1KTsKICAgICAgICAKICAgIAogICAgICAgICAgICB2YXIgbWFya2VyXzU0MDlhMzJkOWYzYTRjZWU5Zjk5NDI1N2EyYzYxMDc0ID0gTC5tYXJrZXIoCiAgICAgICAgICAgICAgICBbNDcuNTIyODE1NjQsIC0xMjIuMjY5OTg3ODk5OTk5OTldLAogICAgICAgICAgICAgICAge30KICAgICAgICAgICAgKS5hZGRUbyhtYXBfYmFkZmZiYzliNjRjNDZiNGE3MDdkNDEzNGFhZDY5ODIpOwogICAgICAgIAogICAgCiAgICAgICAgICAgIHZhciBpY29uX2MxYjU4MDY0YzgwNTQwZjNiMjdiZTY4NjllZDI5M2RmID0gTC5Bd2Vzb21lTWFya2Vycy5pY29uKAogICAgICAgICAgICAgICAgeyJleHRyYUNsYXNzZXMiOiAiZmEtcm90YXRlLTAiLCAiaWNvbiI6ICJpbmZvLXNpZ24iLCAiaWNvbkNvbG9yIjogIndoaXRlIiwgIm1hcmtlckNvbG9yIjogImJsdWUiLCAicHJlZml4IjogImdseXBoaWNvbiJ9CiAgICAgICAgICAgICk7CiAgICAgICAgICAgIG1hcmtlcl81NDA5YTMyZDlmM2E0Y2VlOWY5OTQyNTdhMmM2MTA3NC5zZXRJY29uKGljb25fYzFiNTgwNjRjODA1NDBmM2IyN2JlNjg2OWVkMjkzZGYpOwogICAgICAgIAogICAgCiAgICAgICAgICAgIHZhciBtYXJrZXJfMjUzOGJkNDhiOWJlNDdhNmE1ODU5OWI2NjdiOTEzNzEgPSBMLm1hcmtlcigKICAgICAgICAgICAgICAgIFs0Ny41OTUxMTYyOCwgLTEyMi4zMTA5NDk0XSwKICAgICAgICAgICAgICAgIHt9CiAgICAgICAgICAgICkuYWRkVG8obWFwX2JhZGZmYmM5YjY0YzQ2YjRhNzA3ZDQxMzRhYWQ2OTgyKTsKICAgICAgICAKICAgIAogICAgICAgICAgICB2YXIgaWNvbl8wOGZhMWQ3OGQzYzk0MGJjYmJhMzEyNGY0MDZkYjZiMyA9IEwuQXdlc29tZU1hcmtlcnMuaWNvbigKICAgICAgICAgICAgICAgIHsiZXh0cmFDbGFzc2VzIjogImZhLXJvdGF0ZS0wIiwgImljb24iOiAiaW5mby1zaWduIiwgImljb25Db2xvciI6ICJ3aGl0ZSIsICJtYXJrZXJDb2xvciI6ICJibHVlIiwgInByZWZpeCI6ICJnbHlwaGljb24ifQogICAgICAgICAgICApOwogICAgICAgICAgICBtYXJrZXJfMjUzOGJkNDhiOWJlNDdhNmE1ODU5OWI2NjdiOTEzNzEuc2V0SWNvbihpY29uXzA4ZmExZDc4ZDNjOTQwYmNiYmEzMTI0ZjQwNmRiNmIzKTsKICAgICAgICAKICAgIAogICAgICAgICAgICB2YXIgbWFya2VyX2I3ZDcwNTQyMWYyYjQwZDE4MTNkMDRhMTYzOTczNTYwID0gTC5tYXJrZXIoCiAgICAgICAgICAgICAgICBbNDcuNTY4ODgyMzgsIC0xMjIuMjg5OTIyOTAwMDAwMDFdLAogICAgICAgICAgICAgICAge30KICAgICAgICAgICAgKS5hZGRUbyhtYXBfYmFkZmZiYzliNjRjNDZiNGE3MDdkNDEzNGFhZDY5ODIpOwogICAgICAgIAogICAgCiAgICAgICAgICAgIHZhciBpY29uXzVlMjU5YWZmNGM1YjQxOTE4MTRiNDI1MjNlN2NlYmIyID0gTC5Bd2Vzb21lTWFya2Vycy5pY29uKAogICAgICAgICAgICAgICAgeyJleHRyYUNsYXNzZXMiOiAiZmEtcm90YXRlLTAiLCAiaWNvbiI6ICJpbmZvLXNpZ24iLCAiaWNvbkNvbG9yIjogIndoaXRlIiwgIm1hcmtlckNvbG9yIjogImJsdWUiLCAicHJlZml4IjogImdseXBoaWNvbiJ9CiAgICAgICAgICAgICk7CiAgICAgICAgICAgIG1hcmtlcl9iN2Q3MDU0MjFmMmI0MGQxODEzZDA0YTE2Mzk3MzU2MC5zZXRJY29uKGljb25fNWUyNTlhZmY0YzViNDE5MTgxNGI0MjUyM2U3Y2ViYjIpOwogICAgICAgIAogICAgCiAgICAgICAgICAgIHZhciBtYXJrZXJfZmNiOTczNTg4MGIxNDFmYTkyMjI4NWVjYmQ3YTM5NTkgPSBMLm1hcmtlcigKICAgICAgICAgICAgICAgIFs0Ny42MDk2ODU0MiwgLTEyMi4zMzQ2NjU2XSwKICAgICAgICAgICAgICAgIHt9CiAgICAgICAgICAgICkuYWRkVG8obWFwX2JhZGZmYmM5YjY0YzQ2YjRhNzA3ZDQxMzRhYWQ2OTgyKTsKICAgICAgICAKICAgIAogICAgICAgICAgICB2YXIgaWNvbl9kZDBhYTgwZmQxNWQ0YmYyODU5ODM5ZDQ4ODA2NTJiOSA9IEwuQXdlc29tZU1hcmtlcnMuaWNvbigKICAgICAgICAgICAgICAgIHsiZXh0cmFDbGFzc2VzIjogImZhLXJvdGF0ZS0wIiwgImljb24iOiAiaW5mby1zaWduIiwgImljb25Db2xvciI6ICJ3aGl0ZSIsICJtYXJrZXJDb2xvciI6ICJibHVlIiwgInByZWZpeCI6ICJnbHlwaGljb24ifQogICAgICAgICAgICApOwogICAgICAgICAgICBtYXJrZXJfZmNiOTczNTg4MGIxNDFmYTkyMjI4NWVjYmQ3YTM5NTkuc2V0SWNvbihpY29uX2RkMGFhODBmZDE1ZDRiZjI4NTk4MzlkNDg4MDY1MmI5KTsKICAgICAgICAKICAgIAogICAgICAgICAgICB2YXIgbWFya2VyX2Q3NzAzODk5NDFkOTQ1MjQ5NWEzYjYwOTM1YTk4MzgwID0gTC5tYXJrZXIoCiAgICAgICAgICAgICAgICBbNDcuNjEzNzI3MDcsIC0xMjIuMzM5MTczNjAwMDAwMDFdLAogICAgICAgICAgICAgICAge30KICAgICAgICAgICAgKS5hZGRUbyhtYXBfYmFkZmZiYzliNjRjNDZiNGE3MDdkNDEzNGFhZDY5ODIpOwogICAgICAgIAogICAgCiAgICAgICAgICAgIHZhciBpY29uXzU4MzRmOWJkZThiMjQ0N2I4ZmIzZDQ2ZDU1ZDY4ZWJmID0gTC5Bd2Vzb21lTWFya2Vycy5pY29uKAogICAgICAgICAgICAgICAgeyJleHRyYUNsYXNzZXMiOiAiZmEtcm90YXRlLTAiLCAiaWNvbiI6ICJpbmZvLXNpZ24iLCAiaWNvbkNvbG9yIjogIndoaXRlIiwgIm1hcmtlckNvbG9yIjogImJsdWUiLCAicHJlZml4IjogImdseXBoaWNvbiJ9CiAgICAgICAgICAgICk7CiAgICAgICAgICAgIG1hcmtlcl9kNzcwMzg5OTQxZDk0NTI0OTVhM2I2MDkzNWE5ODM4MC5zZXRJY29uKGljb25fNTgzNGY5YmRlOGIyNDQ3YjhmYjNkNDZkNTVkNjhlYmYpOwogICAgICAgIAogICAgCiAgICAgICAgICAgIHZhciBtYXJrZXJfMmQ1YTdhOTQ2OTlkNGZlOTlmMjIyNTI3NWI3NmQ0NDYgPSBMLm1hcmtlcigKICAgICAgICAgICAgICAgIFs0Ny43MDg1ODU3OSwgLTEyMi4zMjE5MjA0MDAwMDAwMV0sCiAgICAgICAgICAgICAgICB7fQogICAgICAgICAgICApLmFkZFRvKG1hcF9iYWRmZmJjOWI2NGM0NmI0YTcwN2Q0MTM0YWFkNjk4Mik7CiAgICAgICAgCiAgICAKICAgICAgICAgICAgdmFyIGljb25fZGEwZDAzZGRjY2FlNDE1ODlhYTAxNWFiMjlmZTJhYjUgPSBMLkF3ZXNvbWVNYXJrZXJzLmljb24oCiAgICAgICAgICAgICAgICB7ImV4dHJhQ2xhc3NlcyI6ICJmYS1yb3RhdGUtMCIsICJpY29uIjogImluZm8tc2lnbiIsICJpY29uQ29sb3IiOiAid2hpdGUiLCAibWFya2VyQ29sb3IiOiAiYmx1ZSIsICJwcmVmaXgiOiAiZ2x5cGhpY29uIn0KICAgICAgICAgICAgKTsKICAgICAgICAgICAgbWFya2VyXzJkNWE3YTk0Njk5ZDRmZTk5ZjIyMjUyNzViNzZkNDQ2LnNldEljb24oaWNvbl9kYTBkMDNkZGNjYWU0MTU4OWFhMDE1YWIyOWZlMmFiNSk7CiAgICAgICAgCiAgICAKICAgICAgICAgICAgdmFyIG1hcmtlcl9kZjhiYmUyMTU0OGQ0NTVmYjRkZjU2NWYwYzg1MDU2YyA9IEwubWFya2VyKAogICAgICAgICAgICAgICAgWzQ3LjUyMTc4MzExLCAtMTIyLjMzNTU3MTNdLAogICAgICAgICAgICAgICAge30KICAgICAgICAgICAgKS5hZGRUbyhtYXBfYmFkZmZiYzliNjRjNDZiNGE3MDdkNDEzNGFhZDY5ODIpOwogICAgICAgIAogICAgCiAgICAgICAgICAgIHZhciBpY29uXzhhNGUyYmI2OTBiZDRjMzRiMjk1Zjg1YjM2YmYyYTlhID0gTC5Bd2Vzb21lTWFya2Vycy5pY29uKAogICAgICAgICAgICAgICAgeyJleHRyYUNsYXNzZXMiOiAiZmEtcm90YXRlLTAiLCAiaWNvbiI6ICJpbmZvLXNpZ24iLCAiaWNvbkNvbG9yIjogIndoaXRlIiwgIm1hcmtlckNvbG9yIjogImJsdWUiLCAicHJlZml4IjogImdseXBoaWNvbiJ9CiAgICAgICAgICAgICk7CiAgICAgICAgICAgIG1hcmtlcl9kZjhiYmUyMTU0OGQ0NTVmYjRkZjU2NWYwYzg1MDU2Yy5zZXRJY29uKGljb25fOGE0ZTJiYjY5MGJkNGMzNGIyOTVmODViMzZiZjJhOWEpOwogICAgICAgIAogICAgCiAgICAgICAgICAgIHZhciBtYXJrZXJfYTU0MDUzZDk3Nzk1NGRiODhlNWRhNGZmNGFlNDM4ODIgPSBMLm1hcmtlcigKICAgICAgICAgICAgICAgIFs0Ny42NTQ5OTUyMywgLTEyMi4zMDIzMjldLAogICAgICAgICAgICAgICAge30KICAgICAgICAgICAgKS5hZGRUbyhtYXBfYmFkZmZiYzliNjRjNDZiNGE3MDdkNDEzNGFhZDY5ODIpOwogICAgICAgIAogICAgCiAgICAgICAgICAgIHZhciBpY29uXzU3NzE5ZGFlY2ZhNTRmNDE5ZTUzZTExNDExMTdjNDVlID0gTC5Bd2Vzb21lTWFya2Vycy5pY29uKAogICAgICAgICAgICAgICAgeyJleHRyYUNsYXNzZXMiOiAiZmEtcm90YXRlLTAiLCAiaWNvbiI6ICJpbmZvLXNpZ24iLCAiaWNvbkNvbG9yIjogIndoaXRlIiwgIm1hcmtlckNvbG9yIjogImJsdWUiLCAicHJlZml4IjogImdseXBoaWNvbiJ9CiAgICAgICAgICAgICk7CiAgICAgICAgICAgIG1hcmtlcl9hNTQwNTNkOTc3OTU0ZGI4OGU1ZGE0ZmY0YWU0Mzg4Mi5zZXRJY29uKGljb25fNTc3MTlkYWVjZmE1NGY0MTllNTNlMTE0MTExN2M0NWUpOwogICAgICAgIAogICAgCiAgICAgICAgICAgIHZhciBtYXJrZXJfOTk1ZjVjYTdjMWU0NDkyMjk2ZTI0NDc3NDI1ZTk4YTEgPSBMLm1hcmtlcigKICAgICAgICAgICAgICAgIFs0Ny43MDg2MDI4LCAtMTIyLjMyNDYxNTJdLAogICAgICAgICAgICAgICAge30KICAgICAgICAgICAgKS5hZGRUbyhtYXBfYmFkZmZiYzliNjRjNDZiNGE3MDdkNDEzNGFhZDY5ODIpOwogICAgICAgIAogICAgCiAgICAgICAgICAgIHZhciBpY29uX2FlNmU4MDE1NDg2MTQwMjQ5OTgyYzBmYTY0MWE0MGQ0ID0gTC5Bd2Vzb21lTWFya2Vycy5pY29uKAogICAgICAgICAgICAgICAgeyJleHRyYUNsYXNzZXMiOiAiZmEtcm90YXRlLTAiLCAiaWNvbiI6ICJpbmZvLXNpZ24iLCAiaWNvbkNvbG9yIjogIndoaXRlIiwgIm1hcmtlckNvbG9yIjogImJsdWUiLCAicHJlZml4IjogImdseXBoaWNvbiJ9CiAgICAgICAgICAgICk7CiAgICAgICAgICAgIG1hcmtlcl85OTVmNWNhN2MxZTQ0OTIyOTZlMjQ0Nzc0MjVlOThhMS5zZXRJY29uKGljb25fYWU2ZTgwMTU0ODYxNDAyNDk5ODJjMGZhNjQxYTQwZDQpOwogICAgICAgIAogICAgCiAgICAgICAgICAgIHZhciBtYXJrZXJfYTFjNjgxOGQ1YTUyNGNhNjk0NWUzNjNiOGUzY2UxZDUgPSBMLm1hcmtlcigKICAgICAgICAgICAgICAgIFs0Ny41MjQ3MzkwNCwgLTEyMi4yNjk5ODIwMDAwMDAwMV0sCiAgICAgICAgICAgICAgICB7fQogICAgICAgICAgICApLmFkZFRvKG1hcF9iYWRmZmJjOWI2NGM0NmI0YTcwN2Q0MTM0YWFkNjk4Mik7CiAgICAgICAgCiAgICAKICAgICAgICAgICAgdmFyIGljb25fZDI5YTYxZTAzMzkyNDkyYjkyOTU1ZDMzMTVjMzk5ZjkgPSBMLkF3ZXNvbWVNYXJrZXJzLmljb24oCiAgICAgICAgICAgICAgICB7ImV4dHJhQ2xhc3NlcyI6ICJmYS1yb3RhdGUtMCIsICJpY29uIjogImluZm8tc2lnbiIsICJpY29uQ29sb3IiOiAid2hpdGUiLCAibWFya2VyQ29sb3IiOiAiYmx1ZSIsICJwcmVmaXgiOiAiZ2x5cGhpY29uIn0KICAgICAgICAgICAgKTsKICAgICAgICAgICAgbWFya2VyX2ExYzY4MThkNWE1MjRjYTY5NDVlMzYzYjhlM2NlMWQ1LnNldEljb24oaWNvbl9kMjlhNjFlMDMzOTI0OTJiOTI5NTVkMzMxNWMzOTlmOSk7CiAgICAgICAgCiAgICAKICAgICAgICAgICAgdmFyIG1hcmtlcl84ZjA4NjIzODFiNjE0ZDI2OWRkMTU2Y2RkNWQ5ZmU1YiA9IEwubWFya2VyKAogICAgICAgICAgICAgICAgWzQ3LjYwODMyNDU2LCAtMTIyLjMzOTU1OTRdLAogICAgICAgICAgICAgICAge30KICAgICAgICAgICAgKS5hZGRUbyhtYXBfYmFkZmZiYzliNjRjNDZiNGE3MDdkNDEzNGFhZDY5ODIpOwogICAgICAgIAogICAgCiAgICAgICAgICAgIHZhciBpY29uX2I0NjUzNzQ0YzUzODRiYzA5ZWQ3ZjFiY2M5OWFlZDJjID0gTC5Bd2Vzb21lTWFya2Vycy5pY29uKAogICAgICAgICAgICAgICAgeyJleHRyYUNsYXNzZXMiOiAiZmEtcm90YXRlLTAiLCAiaWNvbiI6ICJpbmZvLXNpZ24iLCAiaWNvbkNvbG9yIjogIndoaXRlIiwgIm1hcmtlckNvbG9yIjogImJsdWUiLCAicHJlZml4IjogImdseXBoaWNvbiJ9CiAgICAgICAgICAgICk7CiAgICAgICAgICAgIG1hcmtlcl84ZjA4NjIzODFiNjE0ZDI2OWRkMTU2Y2RkNWQ5ZmU1Yi5zZXRJY29uKGljb25fYjQ2NTM3NDRjNTM4NGJjMDllZDdmMWJjYzk5YWVkMmMpOwogICAgICAgIAogICAgCiAgICAgICAgICAgIHZhciBtYXJrZXJfNTBkZGUxY2Q0MTYxNGY3NWIxODU1NjdjNDg2NDg0OGYgPSBMLm1hcmtlcigKICAgICAgICAgICAgICAgIFs0Ny41NTExNzYwMiwgLTEyMi4yNzc2NjQwOTk5OTk5OF0sCiAgICAgICAgICAgICAgICB7fQogICAgICAgICAgICApLmFkZFRvKG1hcF9iYWRmZmJjOWI2NGM0NmI0YTcwN2Q0MTM0YWFkNjk4Mik7CiAgICAgICAgCiAgICAKICAgICAgICAgICAgdmFyIGljb25fMTFjMjhmOGIyNWJmNGMxMThiNmFhYWU3NjU1NTYxMTMgPSBMLkF3ZXNvbWVNYXJrZXJzLmljb24oCiAgICAgICAgICAgICAgICB7ImV4dHJhQ2xhc3NlcyI6ICJmYS1yb3RhdGUtMCIsICJpY29uIjogImluZm8tc2lnbiIsICJpY29uQ29sb3IiOiAid2hpdGUiLCAibWFya2VyQ29sb3IiOiAiYmx1ZSIsICJwcmVmaXgiOiAiZ2x5cGhpY29uIn0KICAgICAgICAgICAgKTsKICAgICAgICAgICAgbWFya2VyXzUwZGRlMWNkNDE2MTRmNzViMTg1NTY3YzQ4NjQ4NDhmLnNldEljb24oaWNvbl8xMWMyOGY4YjI1YmY0YzExOGI2YWFhZTc2NTU1NjExMyk7CiAgICAgICAgCiAgICAKICAgICAgICAgICAgdmFyIG1hcmtlcl82ZjQ3M2RmYTM3MDE0YzJkOWZiMDA4ZDlmZTIwZDBiYSA9IEwubWFya2VyKAogICAgICAgICAgICAgICAgWzQ3LjYxMjg4OTI0LCAtMTIyLjMxNjczMzRdLAogICAgICAgICAgICAgICAge30KICAgICAgICAgICAgKS5hZGRUbyhtYXBfYmFkZmZiYzliNjRjNDZiNGE3MDdkNDEzNGFhZDY5ODIpOwogICAgICAgIAogICAgCiAgICAgICAgICAgIHZhciBpY29uXzM4NmU4MTJjODI3OTRkYTZiZTQ3NWQwNDMwOGVhNTZmID0gTC5Bd2Vzb21lTWFya2Vycy5pY29uKAogICAgICAgICAgICAgICAgeyJleHRyYUNsYXNzZXMiOiAiZmEtcm90YXRlLTAiLCAiaWNvbiI6ICJpbmZvLXNpZ24iLCAiaWNvbkNvbG9yIjogIndoaXRlIiwgIm1hcmtlckNvbG9yIjogImJsdWUiLCAicHJlZml4IjogImdseXBoaWNvbiJ9CiAgICAgICAgICAgICk7CiAgICAgICAgICAgIG1hcmtlcl82ZjQ3M2RmYTM3MDE0YzJkOWZiMDA4ZDlmZTIwZDBiYS5zZXRJY29uKGljb25fMzg2ZTgxMmM4Mjc5NGRhNmJlNDc1ZDA0MzA4ZWE1NmYpOwogICAgICAgIAogICAgCiAgICAgICAgICAgIHZhciBtYXJrZXJfNjk3MGY1N2QxODFlNDU4MDhiMjc4MzhiNmE0YjFlOWIgPSBMLm1hcmtlcigKICAgICAgICAgICAgICAgIFs0Ny42MDg2OTI2MDAwMDAwMDUsIC0xMjIuMzMzNzU2OF0sCiAgICAgICAgICAgICAgICB7fQogICAgICAgICAgICApLmFkZFRvKG1hcF9iYWRmZmJjOWI2NGM0NmI0YTcwN2Q0MTM0YWFkNjk4Mik7CiAgICAgICAgCiAgICAKICAgICAgICAgICAgdmFyIGljb25fNGI1NTYwODFlOWQ1NDI1YjgwYmVlMmQxNDFkYTVlNzEgPSBMLkF3ZXNvbWVNYXJrZXJzLmljb24oCiAgICAgICAgICAgICAgICB7ImV4dHJhQ2xhc3NlcyI6ICJmYS1yb3RhdGUtMCIsICJpY29uIjogImluZm8tc2lnbiIsICJpY29uQ29sb3IiOiAid2hpdGUiLCAibWFya2VyQ29sb3IiOiAiYmx1ZSIsICJwcmVmaXgiOiAiZ2x5cGhpY29uIn0KICAgICAgICAgICAgKTsKICAgICAgICAgICAgbWFya2VyXzY5NzBmNTdkMTgxZTQ1ODA4YjI3ODM4YjZhNGIxZTliLnNldEljb24oaWNvbl80YjU1NjA4MWU5ZDU0MjViODBiZWUyZDE0MWRhNWU3MSk7CiAgICAgICAgCiAgICAKICAgICAgICAgICAgdmFyIG1hcmtlcl84YjI3ZDExNWVjNDg0YWUyYTJmYTE4ZDRjZDI5MjY2YiA9IEwubWFya2VyKAogICAgICAgICAgICAgICAgWzQ3LjU0NzAyNDUsIC0xMjIuMzIzMjM5Ml0sCiAgICAgICAgICAgICAgICB7fQogICAgICAgICAgICApLmFkZFRvKG1hcF9iYWRmZmJjOWI2NGM0NmI0YTcwN2Q0MTM0YWFkNjk4Mik7CiAgICAgICAgCiAgICAKICAgICAgICAgICAgdmFyIGljb25fNTA1NWE5NDM2ZGVhNGIyNTg2Y2E5MzkxNDgxMWQ0ODMgPSBMLkF3ZXNvbWVNYXJrZXJzLmljb24oCiAgICAgICAgICAgICAgICB7ImV4dHJhQ2xhc3NlcyI6ICJmYS1yb3RhdGUtMCIsICJpY29uIjogImluZm8tc2lnbiIsICJpY29uQ29sb3IiOiAid2hpdGUiLCAibWFya2VyQ29sb3IiOiAiYmx1ZSIsICJwcmVmaXgiOiAiZ2x5cGhpY29uIn0KICAgICAgICAgICAgKTsKICAgICAgICAgICAgbWFya2VyXzhiMjdkMTE1ZWM0ODRhZTJhMmZhMThkNGNkMjkyNjZiLnNldEljb24oaWNvbl81MDU1YTk0MzZkZWE0YjI1ODZjYTkzOTE0ODExZDQ4Myk7CiAgICAgICAgCiAgICAKICAgICAgICAgICAgdmFyIG1hcmtlcl9jZTIxYTE5MTNjNzQ0YzI4OTNjNDVkZTMxNTQ5ZTc2OCA9IEwubWFya2VyKAogICAgICAgICAgICAgICAgWzQ3LjU0OTE5MDU5LCAtMTIyLjMzNDc5MjJdLAogICAgICAgICAgICAgICAge30KICAgICAgICAgICAgKS5hZGRUbyhtYXBfYmFkZmZiYzliNjRjNDZiNGE3MDdkNDEzNGFhZDY5ODIpOwogICAgICAgIAogICAgCiAgICAgICAgICAgIHZhciBpY29uXzQxOTdkZjUxNjU1YjQzZmQ5ZTQzMjQ5MTYyYjA0MmRmID0gTC5Bd2Vzb21lTWFya2Vycy5pY29uKAogICAgICAgICAgICAgICAgeyJleHRyYUNsYXNzZXMiOiAiZmEtcm90YXRlLTAiLCAiaWNvbiI6ICJpbmZvLXNpZ24iLCAiaWNvbkNvbG9yIjogIndoaXRlIiwgIm1hcmtlckNvbG9yIjogImJsdWUiLCAicHJlZml4IjogImdseXBoaWNvbiJ9CiAgICAgICAgICAgICk7CiAgICAgICAgICAgIG1hcmtlcl9jZTIxYTE5MTNjNzQ0YzI4OTNjNDVkZTMxNTQ5ZTc2OC5zZXRJY29uKGljb25fNDE5N2RmNTE2NTViNDNmZDllNDMyNDkxNjJiMDQyZGYpOwogICAgICAgIAogICAgCiAgICAgICAgICAgIHZhciBtYXJrZXJfNDYzNGJhMTA2YTBkNDI0ZmIzZWNkZTZiMGM0YTQzNDQgPSBMLm1hcmtlcigKICAgICAgICAgICAgICAgIFs0Ny43MDg2Mzc0MywgLTEyMi4zMjk5NzM5OTk5OTk5OV0sCiAgICAgICAgICAgICAgICB7fQogICAgICAgICAgICApLmFkZFRvKG1hcF9iYWRmZmJjOWI2NGM0NmI0YTcwN2Q0MTM0YWFkNjk4Mik7CiAgICAgICAgCiAgICAKICAgICAgICAgICAgdmFyIGljb25fMDE0ZjEwNzEzMTU3NDk5MjkwMWRlOWMyMjI1MGE4MDUgPSBMLkF3ZXNvbWVNYXJrZXJzLmljb24oCiAgICAgICAgICAgICAgICB7ImV4dHJhQ2xhc3NlcyI6ICJmYS1yb3RhdGUtMCIsICJpY29uIjogImluZm8tc2lnbiIsICJpY29uQ29sb3IiOiAid2hpdGUiLCAibWFya2VyQ29sb3IiOiAiYmx1ZSIsICJwcmVmaXgiOiAiZ2x5cGhpY29uIn0KICAgICAgICAgICAgKTsKICAgICAgICAgICAgbWFya2VyXzQ2MzRiYTEwNmEwZDQyNGZiM2VjZGU2YjBjNGE0MzQ0LnNldEljb24oaWNvbl8wMTRmMTA3MTMxNTc0OTkyOTAxZGU5YzIyMjUwYTgwNSk7CiAgICAgICAgCiAgICAKICAgICAgICAgICAgdmFyIG1hcmtlcl8yMjE4NWQzNDZmYzk0ZTYzOTNmYjJmNTA4NWIyZGM4MCA9IEwubWFya2VyKAogICAgICAgICAgICAgICAgWzQ3LjU2MTc1ODg1LCAtMTIyLjI4NzU0NTldLAogICAgICAgICAgICAgICAge30KICAgICAgICAgICAgKS5hZGRUbyhtYXBfYmFkZmZiYzliNjRjNDZiNGE3MDdkNDEzNGFhZDY5ODIpOwogICAgICAgIAogICAgCiAgICAgICAgICAgIHZhciBpY29uX2I3MjNiOWVjMjg2OTQxNjY4NzU1NzlmODU2MmY5ZGMzID0gTC5Bd2Vzb21lTWFya2Vycy5pY29uKAogICAgICAgICAgICAgICAgeyJleHRyYUNsYXNzZXMiOiAiZmEtcm90YXRlLTAiLCAiaWNvbiI6ICJpbmZvLXNpZ24iLCAiaWNvbkNvbG9yIjogIndoaXRlIiwgIm1hcmtlckNvbG9yIjogImJsdWUiLCAicHJlZml4IjogImdseXBoaWNvbiJ9CiAgICAgICAgICAgICk7CiAgICAgICAgICAgIG1hcmtlcl8yMjE4NWQzNDZmYzk0ZTYzOTNmYjJmNTA4NWIyZGM4MC5zZXRJY29uKGljb25fYjcyM2I5ZWMyODY5NDE2Njg3NTU3OWY4NTYyZjlkYzMpOwogICAgICAgIAogICAgCiAgICAgICAgICAgIHZhciBtYXJrZXJfMDA2NDQyZTFhM2M2NDI2NGExYWQxNGRiMjQ2YzU4ODggPSBMLm1hcmtlcigKICAgICAgICAgICAgICAgIFs0Ny42MDQzOTMyNywgLTEyMi4zMjc1MjQ1MDAwMDAwMV0sCiAgICAgICAgICAgICAgICB7fQogICAgICAgICAgICApLmFkZFRvKG1hcF9iYWRmZmJjOWI2NGM0NmI0YTcwN2Q0MTM0YWFkNjk4Mik7CiAgICAgICAgCiAgICAKICAgICAgICAgICAgdmFyIGljb25fY2UzNTVmOWRiZmY3NDU0M2FlMDBjMGM2ZjlmNjhlZGYgPSBMLkF3ZXNvbWVNYXJrZXJzLmljb24oCiAgICAgICAgICAgICAgICB7ImV4dHJhQ2xhc3NlcyI6ICJmYS1yb3RhdGUtMCIsICJpY29uIjogImluZm8tc2lnbiIsICJpY29uQ29sb3IiOiAid2hpdGUiLCAibWFya2VyQ29sb3IiOiAiYmx1ZSIsICJwcmVmaXgiOiAiZ2x5cGhpY29uIn0KICAgICAgICAgICAgKTsKICAgICAgICAgICAgbWFya2VyXzAwNjQ0MmUxYTNjNjQyNjRhMWFkMTRkYjI0NmM1ODg4LnNldEljb24oaWNvbl9jZTM1NWY5ZGJmZjc0NTQzYWUwMGMwYzZmOWY2OGVkZik7CiAgICAgICAgCiAgICAKICAgICAgICAgICAgdmFyIG1hcmtlcl85ZjU2NmRlNDU0NGM0OGU1YmYyNzk5ZWU3ZWU2ZmJmYSA9IEwubWFya2VyKAogICAgICAgICAgICAgICAgWzQ3LjYxODQ0OTM1LCAtMTIyLjMyOTI5MjA5OTk5OTk5XSwKICAgICAgICAgICAgICAgIHt9CiAgICAgICAgICAgICkuYWRkVG8obWFwX2JhZGZmYmM5YjY0YzQ2YjRhNzA3ZDQxMzRhYWQ2OTgyKTsKICAgICAgICAKICAgIAogICAgICAgICAgICB2YXIgaWNvbl81NTY0YTllYzk1MTU0MTA3OTFlNWU3N2ViZjBiZmQ2YyA9IEwuQXdlc29tZU1hcmtlcnMuaWNvbigKICAgICAgICAgICAgICAgIHsiZXh0cmFDbGFzc2VzIjogImZhLXJvdGF0ZS0wIiwgImljb24iOiAiaW5mby1zaWduIiwgImljb25Db2xvciI6ICJ3aGl0ZSIsICJtYXJrZXJDb2xvciI6ICJibHVlIiwgInByZWZpeCI6ICJnbHlwaGljb24ifQogICAgICAgICAgICApOwogICAgICAgICAgICBtYXJrZXJfOWY1NjZkZTQ1NDRjNDhlNWJmMjc5OWVlN2VlNmZiZmEuc2V0SWNvbihpY29uXzU1NjRhOWVjOTUxNTQxMDc5MWU1ZTc3ZWJmMGJmZDZjKTsKICAgICAgICAKICAgIAogICAgICAgICAgICB2YXIgbWFya2VyXzRlMGNlZDQ4NTRmNTQzZDE5NjQ2NDU3MGNlMjdmNDY2ID0gTC5tYXJrZXIoCiAgICAgICAgICAgICAgICBbNDcuNTYwMTA4MiwgLTEyMi4yODY0ODg2XSwKICAgICAgICAgICAgICAgIHt9CiAgICAgICAgICAgICkuYWRkVG8obWFwX2JhZGZmYmM5YjY0YzQ2YjRhNzA3ZDQxMzRhYWQ2OTgyKTsKICAgICAgICAKICAgIAogICAgICAgICAgICB2YXIgaWNvbl83YzI3NDMxNGIyY2Y0MDI5OTk0NWIwMTlmMWUwMzg0MCA9IEwuQXdlc29tZU1hcmtlcnMuaWNvbigKICAgICAgICAgICAgICAgIHsiZXh0cmFDbGFzc2VzIjogImZhLXJvdGF0ZS0wIiwgImljb24iOiAiaW5mby1zaWduIiwgImljb25Db2xvciI6ICJ3aGl0ZSIsICJtYXJrZXJDb2xvciI6ICJibHVlIiwgInByZWZpeCI6ICJnbHlwaGljb24ifQogICAgICAgICAgICApOwogICAgICAgICAgICBtYXJrZXJfNGUwY2VkNDg1NGY1NDNkMTk2NDY0NTcwY2UyN2Y0NjYuc2V0SWNvbihpY29uXzdjMjc0MzE0YjJjZjQwMjk5OTQ1YjAxOWYxZTAzODQwKTsKICAgICAgICAKICAgIAogICAgICAgICAgICB2YXIgbWFya2VyX2RkOGYyZjgxODg2MzQzNDlhOGRlOTA2MjQxZDJlMTU4ID0gTC5tYXJrZXIoCiAgICAgICAgICAgICAgICBbNDcuNjI1NTkyNjUsIC0xMjIuMzY3MDIzNjAwMDAwMDFdLAogICAgICAgICAgICAgICAge30KICAgICAgICAgICAgKS5hZGRUbyhtYXBfYmFkZmZiYzliNjRjNDZiNGE3MDdkNDEzNGFhZDY5ODIpOwogICAgICAgIAogICAgCiAgICAgICAgICAgIHZhciBpY29uXzg0NjQ5N2YyYWQ1NDQ2YTU5YWRkOGE1MDgyODIyN2MxID0gTC5Bd2Vzb21lTWFya2Vycy5pY29uKAogICAgICAgICAgICAgICAgeyJleHRyYUNsYXNzZXMiOiAiZmEtcm90YXRlLTAiLCAiaWNvbiI6ICJpbmZvLXNpZ24iLCAiaWNvbkNvbG9yIjogIndoaXRlIiwgIm1hcmtlckNvbG9yIjogImJsdWUiLCAicHJlZml4IjogImdseXBoaWNvbiJ9CiAgICAgICAgICAgICk7CiAgICAgICAgICAgIG1hcmtlcl9kZDhmMmY4MTg4NjM0MzQ5YThkZTkwNjI0MWQyZTE1OC5zZXRJY29uKGljb25fODQ2NDk3ZjJhZDU0NDZhNTlhZGQ4YTUwODI4MjI3YzEpOwogICAgICAgIAogICAgCiAgICAgICAgICAgIHZhciBtYXJrZXJfMjJlNGM2MWE0YjNhNDBhZmI3OTljMTRiZmY0NWM3MDYgPSBMLm1hcmtlcigKICAgICAgICAgICAgICAgIFs0Ny42MTA2Nzc5LCAtMTIyLjMzNTU3NF0sCiAgICAgICAgICAgICAgICB7fQogICAgICAgICAgICApLmFkZFRvKG1hcF9iYWRmZmJjOWI2NGM0NmI0YTcwN2Q0MTM0YWFkNjk4Mik7CiAgICAgICAgCiAgICAKICAgICAgICAgICAgdmFyIGljb25fOGU0OGQ4MTk4YTU4NDY0NmIxMGExMzhiMDVjYjViYTMgPSBMLkF3ZXNvbWVNYXJrZXJzLmljb24oCiAgICAgICAgICAgICAgICB7ImV4dHJhQ2xhc3NlcyI6ICJmYS1yb3RhdGUtMCIsICJpY29uIjogImluZm8tc2lnbiIsICJpY29uQ29sb3IiOiAid2hpdGUiLCAibWFya2VyQ29sb3IiOiAiYmx1ZSIsICJwcmVmaXgiOiAiZ2x5cGhpY29uIn0KICAgICAgICAgICAgKTsKICAgICAgICAgICAgbWFya2VyXzIyZTRjNjFhNGIzYTQwYWZiNzk5YzE0YmZmNDVjNzA2LnNldEljb24oaWNvbl84ZTQ4ZDgxOThhNTg0NjQ2YjEwYTEzOGIwNWNiNWJhMyk7CiAgICAgICAgCiAgICAKICAgICAgICAgICAgdmFyIG1hcmtlcl9hNjMwNzIyOGUzZWY0YmEwYjAyYWIzOGRmMjViM2Y1ZSA9IEwubWFya2VyKAogICAgICAgICAgICAgICAgWzQ3LjYxMzQ2NTgyLCAtMTIyLjMyODkxMzEwMDAwMDAxXSwKICAgICAgICAgICAgICAgIHt9CiAgICAgICAgICAgICkuYWRkVG8obWFwX2JhZGZmYmM5YjY0YzQ2YjRhNzA3ZDQxMzRhYWQ2OTgyKTsKICAgICAgICAKICAgIAogICAgICAgICAgICB2YXIgaWNvbl85MDdhNGQ0ZDJiYmQ0YTQxOGQxN2I5OWVhN2M1MjM5MSA9IEwuQXdlc29tZU1hcmtlcnMuaWNvbigKICAgICAgICAgICAgICAgIHsiZXh0cmFDbGFzc2VzIjogImZhLXJvdGF0ZS0wIiwgImljb24iOiAiaW5mby1zaWduIiwgImljb25Db2xvciI6ICJ3aGl0ZSIsICJtYXJrZXJDb2xvciI6ICJibHVlIiwgInByZWZpeCI6ICJnbHlwaGljb24ifQogICAgICAgICAgICApOwogICAgICAgICAgICBtYXJrZXJfYTYzMDcyMjhlM2VmNGJhMGIwMmFiMzhkZjI1YjNmNWUuc2V0SWNvbihpY29uXzkwN2E0ZDRkMmJiZDRhNDE4ZDE3Yjk5ZWE3YzUyMzkxKTsKICAgICAgICAKICAgIAogICAgICAgICAgICB2YXIgbWFya2VyX2ZjNDg0MTRjZWI5NDQ0ZTA5NTk2MDRlNWFhY2U4OTRlID0gTC5tYXJrZXIoCiAgICAgICAgICAgICAgICBbNDcuNzIwNDgxOTksIC0xMjIuMzQ0OTQ2Nzk5OTk5OTldLAogICAgICAgICAgICAgICAge30KICAgICAgICAgICAgKS5hZGRUbyhtYXBfYmFkZmZiYzliNjRjNDZiNGE3MDdkNDEzNGFhZDY5ODIpOwogICAgICAgIAogICAgCiAgICAgICAgICAgIHZhciBpY29uX2M2NjhkMzc3ODkxZTQ0ZjliOGNiOTU5OGJiNjZjOGY1ID0gTC5Bd2Vzb21lTWFya2Vycy5pY29uKAogICAgICAgICAgICAgICAgeyJleHRyYUNsYXNzZXMiOiAiZmEtcm90YXRlLTAiLCAiaWNvbiI6ICJpbmZvLXNpZ24iLCAiaWNvbkNvbG9yIjogIndoaXRlIiwgIm1hcmtlckNvbG9yIjogImJsdWUiLCAicHJlZml4IjogImdseXBoaWNvbiJ9CiAgICAgICAgICAgICk7CiAgICAgICAgICAgIG1hcmtlcl9mYzQ4NDE0Y2ViOTQ0NGUwOTU5NjA0ZTVhYWNlODk0ZS5zZXRJY29uKGljb25fYzY2OGQzNzc4OTFlNDRmOWI4Y2I5NTk4YmI2NmM4ZjUpOwogICAgICAgIAogICAgCiAgICAgICAgICAgIHZhciBtYXJrZXJfMDVmNDQ0MTYzNTU4NDVlMWE5NDBjZmFlODdjN2IyOTEgPSBMLm1hcmtlcigKICAgICAgICAgICAgICAgIFs0Ny43MzMwNjM0NiwgLTEyMi4zNDUwODUzXSwKICAgICAgICAgICAgICAgIHt9CiAgICAgICAgICAgICkuYWRkVG8obWFwX2JhZGZmYmM5YjY0YzQ2YjRhNzA3ZDQxMzRhYWQ2OTgyKTsKICAgICAgICAKICAgIAogICAgICAgICAgICB2YXIgaWNvbl82OTY3ZWY2ZWYxODI0NmJhYWRlODlhZWE3MmZlM2ZmOSA9IEwuQXdlc29tZU1hcmtlcnMuaWNvbigKICAgICAgICAgICAgICAgIHsiZXh0cmFDbGFzc2VzIjogImZhLXJvdGF0ZS0wIiwgImljb24iOiAiaW5mby1zaWduIiwgImljb25Db2xvciI6ICJ3aGl0ZSIsICJtYXJrZXJDb2xvciI6ICJibHVlIiwgInByZWZpeCI6ICJnbHlwaGljb24ifQogICAgICAgICAgICApOwogICAgICAgICAgICBtYXJrZXJfMDVmNDQ0MTYzNTU4NDVlMWE5NDBjZmFlODdjN2IyOTEuc2V0SWNvbihpY29uXzY5NjdlZjZlZjE4MjQ2YmFhZGU4OWFlYTcyZmUzZmY5KTsKICAgICAgICAKICAgIAogICAgICAgICAgICB2YXIgbWFya2VyXzU4YTUwZDMwNzYzYTQyMzFhYjllMWRiNjIyZTkwZGUwID0gTC5tYXJrZXIoCiAgICAgICAgICAgICAgICBbNDcuNjIwMjA3MywgLTEyMi4zMDI0OTk2XSwKICAgICAgICAgICAgICAgIHt9CiAgICAgICAgICAgICkuYWRkVG8obWFwX2JhZGZmYmM5YjY0YzQ2YjRhNzA3ZDQxMzRhYWQ2OTgyKTsKICAgICAgICAKICAgIAogICAgICAgICAgICB2YXIgaWNvbl8zZTcxODA4NDcwZDg0MzU4YTYyOTY0OGFjYWVkMDY0MSA9IEwuQXdlc29tZU1hcmtlcnMuaWNvbigKICAgICAgICAgICAgICAgIHsiZXh0cmFDbGFzc2VzIjogImZhLXJvdGF0ZS0wIiwgImljb24iOiAiaW5mby1zaWduIiwgImljb25Db2xvciI6ICJ3aGl0ZSIsICJtYXJrZXJDb2xvciI6ICJibHVlIiwgInByZWZpeCI6ICJnbHlwaGljb24ifQogICAgICAgICAgICApOwogICAgICAgICAgICBtYXJrZXJfNThhNTBkMzA3NjNhNDIzMWFiOWUxZGI2MjJlOTBkZTAuc2V0SWNvbihpY29uXzNlNzE4MDg0NzBkODQzNThhNjI5NjQ4YWNhZWQwNjQxKTsKICAgICAgICAKICAgIAogICAgICAgICAgICB2YXIgbWFya2VyXzhmYzc3NjdlNDU3YTQyODVhNDRkZTkxYzEzOWI4MTJjID0gTC5tYXJrZXIoCiAgICAgICAgICAgICAgICBbNDcuNjE5OTA3NzUsIC0xMjIuMzIwODcyOTAwMDAwMDFdLAogICAgICAgICAgICAgICAge30KICAgICAgICAgICAgKS5hZGRUbyhtYXBfYmFkZmZiYzliNjRjNDZiNGE3MDdkNDEzNGFhZDY5ODIpOwogICAgICAgIAogICAgCiAgICAgICAgICAgIHZhciBpY29uXzVmMDBmY2Q2NWMxYzQyYjNiZGQ5ZDFkMTViNGU2M2FmID0gTC5Bd2Vzb21lTWFya2Vycy5pY29uKAogICAgICAgICAgICAgICAgeyJleHRyYUNsYXNzZXMiOiAiZmEtcm90YXRlLTAiLCAiaWNvbiI6ICJpbmZvLXNpZ24iLCAiaWNvbkNvbG9yIjogIndoaXRlIiwgIm1hcmtlckNvbG9yIjogImJsdWUiLCAicHJlZml4IjogImdseXBoaWNvbiJ9CiAgICAgICAgICAgICk7CiAgICAgICAgICAgIG1hcmtlcl84ZmM3NzY3ZTQ1N2E0Mjg1YTQ0ZGU5MWMxMzliODEyYy5zZXRJY29uKGljb25fNWYwMGZjZDY1YzFjNDJiM2JkZDlkMWQxNWI0ZTYzYWYpOwogICAgICAgIAogICAgCiAgICAgICAgICAgIHZhciBtYXJrZXJfYTI2OTdmMDQ1NDE2NGY2ZjkwYzJlYzBiZGM4YWJjOWMgPSBMLm1hcmtlcigKICAgICAgICAgICAgICAgIFs0Ny41MzkyNDc2NSwgLTEyMi4zNDYwODUxOTk5OTk5OV0sCiAgICAgICAgICAgICAgICB7fQogICAgICAgICAgICApLmFkZFRvKG1hcF9iYWRmZmJjOWI2NGM0NmI0YTcwN2Q0MTM0YWFkNjk4Mik7CiAgICAgICAgCiAgICAKICAgICAgICAgICAgdmFyIGljb25fMmMxNjZiODAwNWJhNDVjY2IxMGVhOTZjNjkwNmQ1ZTMgPSBMLkF3ZXNvbWVNYXJrZXJzLmljb24oCiAgICAgICAgICAgICAgICB7ImV4dHJhQ2xhc3NlcyI6ICJmYS1yb3RhdGUtMCIsICJpY29uIjogImluZm8tc2lnbiIsICJpY29uQ29sb3IiOiAid2hpdGUiLCAibWFya2VyQ29sb3IiOiAiYmx1ZSIsICJwcmVmaXgiOiAiZ2x5cGhpY29uIn0KICAgICAgICAgICAgKTsKICAgICAgICAgICAgbWFya2VyX2EyNjk3ZjA0NTQxNjRmNmY5MGMyZWMwYmRjOGFiYzljLnNldEljb24oaWNvbl8yYzE2NmI4MDA1YmE0NWNjYjEwZWE5NmM2OTA2ZDVlMyk7CiAgICAgICAgCiAgICAKICAgICAgICAgICAgdmFyIG1hcmtlcl9iZTYzMTNiMDlhN2M0YzQ1YTJjOWQwNzllMDNhOWE5OSA9IEwubWFya2VyKAogICAgICAgICAgICAgICAgWzQ3LjYwMzk4MjI0LCAtMTIyLjMzNTU4NjVdLAogICAgICAgICAgICAgICAge30KICAgICAgICAgICAgKS5hZGRUbyhtYXBfYmFkZmZiYzliNjRjNDZiNGE3MDdkNDEzNGFhZDY5ODIpOwogICAgICAgIAogICAgCiAgICAgICAgICAgIHZhciBpY29uX2EyOTBmZjNmZDRiNzQxZmE4OGZhYjkyMmU2YjMxMjZlID0gTC5Bd2Vzb21lTWFya2Vycy5pY29uKAogICAgICAgICAgICAgICAgeyJleHRyYUNsYXNzZXMiOiAiZmEtcm90YXRlLTAiLCAiaWNvbiI6ICJpbmZvLXNpZ24iLCAiaWNvbkNvbG9yIjogIndoaXRlIiwgIm1hcmtlckNvbG9yIjogImJsdWUiLCAicHJlZml4IjogImdseXBoaWNvbiJ9CiAgICAgICAgICAgICk7CiAgICAgICAgICAgIG1hcmtlcl9iZTYzMTNiMDlhN2M0YzQ1YTJjOWQwNzllMDNhOWE5OS5zZXRJY29uKGljb25fYTI5MGZmM2ZkNGI3NDFmYTg4ZmFiOTIyZTZiMzEyNmUpOwogICAgICAgIAogICAgCiAgICAgICAgICAgIHZhciBtYXJrZXJfYzM1NjZlMDQzMWRlNDRiNDhhMGM0YzEzYjY4YmJiMDEgPSBMLm1hcmtlcigKICAgICAgICAgICAgICAgIFs0Ny41ODkzNzM4MSwgLTEyMi4zMzc1NTE1OTk5OTk5OF0sCiAgICAgICAgICAgICAgICB7fQogICAgICAgICAgICApLmFkZFRvKG1hcF9iYWRmZmJjOWI2NGM0NmI0YTcwN2Q0MTM0YWFkNjk4Mik7CiAgICAgICAgCiAgICAKICAgICAgICAgICAgdmFyIGljb25fMmVhNTBkZDRhZjYwNDk4Yzg2MGNjNjJjYjE0YzcxMDMgPSBMLkF3ZXNvbWVNYXJrZXJzLmljb24oCiAgICAgICAgICAgICAgICB7ImV4dHJhQ2xhc3NlcyI6ICJmYS1yb3RhdGUtMCIsICJpY29uIjogImluZm8tc2lnbiIsICJpY29uQ29sb3IiOiAid2hpdGUiLCAibWFya2VyQ29sb3IiOiAiYmx1ZSIsICJwcmVmaXgiOiAiZ2x5cGhpY29uIn0KICAgICAgICAgICAgKTsKICAgICAgICAgICAgbWFya2VyX2MzNTY2ZTA0MzFkZTQ0YjQ4YTBjNGMxM2I2OGJiYjAxLnNldEljb24oaWNvbl8yZWE1MGRkNGFmNjA0OThjODYwY2M2MmNiMTRjNzEwMyk7CiAgICAgICAgCiAgICAKICAgICAgICAgICAgdmFyIG1hcmtlcl9kODUzYzE2ZjliMjE0Yjg2YTc3ZmJjYjM2YjFlYzZlYyA9IEwubWFya2VyKAogICAgICAgICAgICAgICAgWzQ3LjU3NzkzOTE2LCAtMTIyLjI5NzgzNzRdLAogICAgICAgICAgICAgICAge30KICAgICAgICAgICAgKS5hZGRUbyhtYXBfYmFkZmZiYzliNjRjNDZiNGE3MDdkNDEzNGFhZDY5ODIpOwogICAgICAgIAogICAgCiAgICAgICAgICAgIHZhciBpY29uXzVjMDJiNGQ4N2ViNDRlNDFhZjMxODVmMTdmMDk3YmRjID0gTC5Bd2Vzb21lTWFya2Vycy5pY29uKAogICAgICAgICAgICAgICAgeyJleHRyYUNsYXNzZXMiOiAiZmEtcm90YXRlLTAiLCAiaWNvbiI6ICJpbmZvLXNpZ24iLCAiaWNvbkNvbG9yIjogIndoaXRlIiwgIm1hcmtlckNvbG9yIjogImJsdWUiLCAicHJlZml4IjogImdseXBoaWNvbiJ9CiAgICAgICAgICAgICk7CiAgICAgICAgICAgIG1hcmtlcl9kODUzYzE2ZjliMjE0Yjg2YTc3ZmJjYjM2YjFlYzZlYy5zZXRJY29uKGljb25fNWMwMmI0ZDg3ZWI0NGU0MWFmMzE4NWYxN2YwOTdiZGMpOwogICAgICAgIAogICAgCiAgICAgICAgICAgIHZhciBtYXJrZXJfZWY5YzAwNDlkZDE4NDkyM2JiZjg3Mjg4ODQzZmNmYzEgPSBMLm1hcmtlcigKICAgICAgICAgICAgICAgIFs0Ny43MDUwODM1NCwgLTEyMi4zNTU0NTI3XSwKICAgICAgICAgICAgICAgIHt9CiAgICAgICAgICAgICkuYWRkVG8obWFwX2JhZGZmYmM5YjY0YzQ2YjRhNzA3ZDQxMzRhYWQ2OTgyKTsKICAgICAgICAKICAgIAogICAgICAgICAgICB2YXIgaWNvbl9hMDcxNjBmZDA5MTY0Zjg1YmUwOTM4MTUyODJmM2FlOSA9IEwuQXdlc29tZU1hcmtlcnMuaWNvbigKICAgICAgICAgICAgICAgIHsiZXh0cmFDbGFzc2VzIjogImZhLXJvdGF0ZS0wIiwgImljb24iOiAiaW5mby1zaWduIiwgImljb25Db2xvciI6ICJ3aGl0ZSIsICJtYXJrZXJDb2xvciI6ICJibHVlIiwgInByZWZpeCI6ICJnbHlwaGljb24ifQogICAgICAgICAgICApOwogICAgICAgICAgICBtYXJrZXJfZWY5YzAwNDlkZDE4NDkyM2JiZjg3Mjg4ODQzZmNmYzEuc2V0SWNvbihpY29uX2EwNzE2MGZkMDkxNjRmODViZTA5MzgxNTI4MmYzYWU5KTsKICAgICAgICAKICAgIAogICAgICAgICAgICB2YXIgbWFya2VyXzVjMGU5YzRjMGUwYTQ5M2ZhMTlmOGRiMjI5YTYyZjhiID0gTC5tYXJrZXIoCiAgICAgICAgICAgICAgICBbNDcuNTMwMDc4NzUsIC0xMjIuMzYwNDUwNDk5OTk5OThdLAogICAgICAgICAgICAgICAge30KICAgICAgICAgICAgKS5hZGRUbyhtYXBfYmFkZmZiYzliNjRjNDZiNGE3MDdkNDEzNGFhZDY5ODIpOwogICAgICAgIAogICAgCiAgICAgICAgICAgIHZhciBpY29uXzI5OWFiNTg0MGM3YjRhYjNiNjAyY2Q4OTU3YjFmYTJiID0gTC5Bd2Vzb21lTWFya2Vycy5pY29uKAogICAgICAgICAgICAgICAgeyJleHRyYUNsYXNzZXMiOiAiZmEtcm90YXRlLTAiLCAiaWNvbiI6ICJpbmZvLXNpZ24iLCAiaWNvbkNvbG9yIjogIndoaXRlIiwgIm1hcmtlckNvbG9yIjogImJsdWUiLCAicHJlZml4IjogImdseXBoaWNvbiJ9CiAgICAgICAgICAgICk7CiAgICAgICAgICAgIG1hcmtlcl81YzBlOWM0YzBlMGE0OTNmYTE5ZjhkYjIyOWE2MmY4Yi5zZXRJY29uKGljb25fMjk5YWI1ODQwYzdiNGFiM2I2MDJjZDg5NTdiMWZhMmIpOwogICAgICAgIAogICAgCiAgICAgICAgICAgIHZhciBtYXJrZXJfYzMzYjg4ZGQ2M2FlNGIxYmEzYjNhZDI0YjBmOTA3YmUgPSBMLm1hcmtlcigKICAgICAgICAgICAgICAgIFs0Ny41NDQzODY0OSwgLTEyMi4zMzA0NjUzXSwKICAgICAgICAgICAgICAgIHt9CiAgICAgICAgICAgICkuYWRkVG8obWFwX2JhZGZmYmM5YjY0YzQ2YjRhNzA3ZDQxMzRhYWQ2OTgyKTsKICAgICAgICAKICAgIAogICAgICAgICAgICB2YXIgaWNvbl8xZThhYjk0OGQzYjA0NmE0ODM4NjcyYjljZWJiNTNlNiA9IEwuQXdlc29tZU1hcmtlcnMuaWNvbigKICAgICAgICAgICAgICAgIHsiZXh0cmFDbGFzc2VzIjogImZhLXJvdGF0ZS0wIiwgImljb24iOiAiaW5mby1zaWduIiwgImljb25Db2xvciI6ICJ3aGl0ZSIsICJtYXJrZXJDb2xvciI6ICJibHVlIiwgInByZWZpeCI6ICJnbHlwaGljb24ifQogICAgICAgICAgICApOwogICAgICAgICAgICBtYXJrZXJfYzMzYjg4ZGQ2M2FlNGIxYmEzYjNhZDI0YjBmOTA3YmUuc2V0SWNvbihpY29uXzFlOGFiOTQ4ZDNiMDQ2YTQ4Mzg2NzJiOWNlYmI1M2U2KTsKICAgICAgICAKICAgIAogICAgICAgICAgICB2YXIgbWFya2VyXzk3NTIxZWQwN2FmYTRmNzJhMWRmY2JhNWYzZDE2MzZiID0gTC5tYXJrZXIoCiAgICAgICAgICAgICAgICBbNDcuNjA3OTc5NDYsIC0xMjIuMzMzMTAzOTAwMDAwMDFdLAogICAgICAgICAgICAgICAge30KICAgICAgICAgICAgKS5hZGRUbyhtYXBfYmFkZmZiYzliNjRjNDZiNGE3MDdkNDEzNGFhZDY5ODIpOwogICAgICAgIAogICAgCiAgICAgICAgICAgIHZhciBpY29uXzBlZDMzMzRmZTMzYzRhYTJiOTNhOGRiNjViYjlmMzg5ID0gTC5Bd2Vzb21lTWFya2Vycy5pY29uKAogICAgICAgICAgICAgICAgeyJleHRyYUNsYXNzZXMiOiAiZmEtcm90YXRlLTAiLCAiaWNvbiI6ICJpbmZvLXNpZ24iLCAiaWNvbkNvbG9yIjogIndoaXRlIiwgIm1hcmtlckNvbG9yIjogImJsdWUiLCAicHJlZml4IjogImdseXBoaWNvbiJ9CiAgICAgICAgICAgICk7CiAgICAgICAgICAgIG1hcmtlcl85NzUyMWVkMDdhZmE0ZjcyYTFkZmNiYTVmM2QxNjM2Yi5zZXRJY29uKGljb25fMGVkMzMzNGZlMzNjNGFhMmI5M2E4ZGI2NWJiOWYzODkpOwogICAgICAgIAogICAgCiAgICAgICAgICAgIHZhciBtYXJrZXJfYjM0MDY3MjdkNDg3NGI4OGI1MDlmYTM1NTIyNmNmNmIgPSBMLm1hcmtlcigKICAgICAgICAgICAgICAgIFs0Ny42OTA1NjY3MDAwMDAwMDUsIC0xMjIuMzQ1ODY2Nl0sCiAgICAgICAgICAgICAgICB7fQogICAgICAgICAgICApLmFkZFRvKG1hcF9iYWRmZmJjOWI2NGM0NmI0YTcwN2Q0MTM0YWFkNjk4Mik7CiAgICAgICAgCiAgICAKICAgICAgICAgICAgdmFyIGljb25fMzg1NmUzMGE1Zjg5NDY3MGJlNGYzMGY1ZWRkMjY4NjQgPSBMLkF3ZXNvbWVNYXJrZXJzLmljb24oCiAgICAgICAgICAgICAgICB7ImV4dHJhQ2xhc3NlcyI6ICJmYS1yb3RhdGUtMCIsICJpY29uIjogImluZm8tc2lnbiIsICJpY29uQ29sb3IiOiAid2hpdGUiLCAibWFya2VyQ29sb3IiOiAiYmx1ZSIsICJwcmVmaXgiOiAiZ2x5cGhpY29uIn0KICAgICAgICAgICAgKTsKICAgICAgICAgICAgbWFya2VyX2IzNDA2NzI3ZDQ4NzRiODhiNTA5ZmEzNTUyMjZjZjZiLnNldEljb24oaWNvbl8zODU2ZTMwYTVmODk0NjcwYmU0ZjMwZjVlZGQyNjg2NCk7CiAgICAgICAgCiAgICAKICAgICAgICAgICAgdmFyIG1hcmtlcl83ZjcyZTMxNjIzNmQ0ZmEwODI1ODgzODg5NTQwMDE2MyA9IEwubWFya2VyKAogICAgICAgICAgICAgICAgWzQ3LjcyMDE4NTA3LCAtMTIyLjI5NDY5NjldLAogICAgICAgICAgICAgICAge30KICAgICAgICAgICAgKS5hZGRUbyhtYXBfYmFkZmZiYzliNjRjNDZiNGE3MDdkNDEzNGFhZDY5ODIpOwogICAgICAgIAogICAgCiAgICAgICAgICAgIHZhciBpY29uX2IxNzQ2NzM2MDA4MDRlOTZhYTY5MGRiNzBiOGRjNWYzID0gTC5Bd2Vzb21lTWFya2Vycy5pY29uKAogICAgICAgICAgICAgICAgeyJleHRyYUNsYXNzZXMiOiAiZmEtcm90YXRlLTAiLCAiaWNvbiI6ICJpbmZvLXNpZ24iLCAiaWNvbkNvbG9yIjogIndoaXRlIiwgIm1hcmtlckNvbG9yIjogImJsdWUiLCAicHJlZml4IjogImdseXBoaWNvbiJ9CiAgICAgICAgICAgICk7CiAgICAgICAgICAgIG1hcmtlcl83ZjcyZTMxNjIzNmQ0ZmEwODI1ODgzODg5NTQwMDE2My5zZXRJY29uKGljb25fYjE3NDY3MzYwMDgwNGU5NmFhNjkwZGI3MGI4ZGM1ZjMpOwogICAgICAgIAogICAgCiAgICAgICAgICAgIHZhciBtYXJrZXJfNDE0MGI5OWU4YjZhNDFiZjliYTA2NzVhMThmNzUwNzkgPSBMLm1hcmtlcigKICAgICAgICAgICAgICAgIFs0Ny42MDQ4NzYzNywgLTEyMi4zMjg3MzM1XSwKICAgICAgICAgICAgICAgIHt9CiAgICAgICAgICAgICkuYWRkVG8obWFwX2JhZGZmYmM5YjY0YzQ2YjRhNzA3ZDQxMzRhYWQ2OTgyKTsKICAgICAgICAKICAgIAogICAgICAgICAgICB2YXIgaWNvbl8zNDZhM2M4ZGRlOTY0MGQ0YmI3ZmI1MWQxNDAzZTU1OCA9IEwuQXdlc29tZU1hcmtlcnMuaWNvbigKICAgICAgICAgICAgICAgIHsiZXh0cmFDbGFzc2VzIjogImZhLXJvdGF0ZS0wIiwgImljb24iOiAiaW5mby1zaWduIiwgImljb25Db2xvciI6ICJ3aGl0ZSIsICJtYXJrZXJDb2xvciI6ICJibHVlIiwgInByZWZpeCI6ICJnbHlwaGljb24ifQogICAgICAgICAgICApOwogICAgICAgICAgICBtYXJrZXJfNDE0MGI5OWU4YjZhNDFiZjliYTA2NzVhMThmNzUwNzkuc2V0SWNvbihpY29uXzM0NmEzYzhkZGU5NjQwZDRiYjdmYjUxZDE0MDNlNTU4KTsKICAgICAgICAKICAgIAogICAgICAgICAgICB2YXIgbWFya2VyXzZjOGYxNDUwYWNhZDQ5ZGJhOGViZmJiYjkxN2E3MDYzID0gTC5tYXJrZXIoCiAgICAgICAgICAgICAgICBbNDcuNTQ3NTAyOTUsIC0xMjIuMzIxNDM4ODk5OTk5OTldLAogICAgICAgICAgICAgICAge30KICAgICAgICAgICAgKS5hZGRUbyhtYXBfYmFkZmZiYzliNjRjNDZiNGE3MDdkNDEzNGFhZDY5ODIpOwogICAgICAgIAogICAgCiAgICAgICAgICAgIHZhciBpY29uX2NlMTIyODJlMDkwMzQ2ZTg5ODE5ZDA2MDMwNmZmYWMxID0gTC5Bd2Vzb21lTWFya2Vycy5pY29uKAogICAgICAgICAgICAgICAgeyJleHRyYUNsYXNzZXMiOiAiZmEtcm90YXRlLTAiLCAiaWNvbiI6ICJpbmZvLXNpZ24iLCAiaWNvbkNvbG9yIjogIndoaXRlIiwgIm1hcmtlckNvbG9yIjogImJsdWUiLCAicHJlZml4IjogImdseXBoaWNvbiJ9CiAgICAgICAgICAgICk7CiAgICAgICAgICAgIG1hcmtlcl82YzhmMTQ1MGFjYWQ0OWRiYThlYmZiYmI5MTdhNzA2My5zZXRJY29uKGljb25fY2UxMjI4MmUwOTAzNDZlODk4MTlkMDYwMzA2ZmZhYzEpOwogICAgICAgIAogICAgCiAgICAgICAgICAgIHZhciBtYXJrZXJfNTY1NWFjMmY2MjVjNGZjZTgyMWFlMDFhOGQ5MTIzOTUgPSBMLm1hcmtlcigKICAgICAgICAgICAgICAgIFs0Ny42MDE2OTMzNywgLTEyMi4zMTY3ODE5MDAwMDAwMV0sCiAgICAgICAgICAgICAgICB7fQogICAgICAgICAgICApLmFkZFRvKG1hcF9iYWRmZmJjOWI2NGM0NmI0YTcwN2Q0MTM0YWFkNjk4Mik7CiAgICAgICAgCiAgICAKICAgICAgICAgICAgdmFyIGljb25fNDA4NTM4OTQ3MGJmNDUyNmIzMzUxZmQ2ODU2ZWMxZmEgPSBMLkF3ZXNvbWVNYXJrZXJzLmljb24oCiAgICAgICAgICAgICAgICB7ImV4dHJhQ2xhc3NlcyI6ICJmYS1yb3RhdGUtMCIsICJpY29uIjogImluZm8tc2lnbiIsICJpY29uQ29sb3IiOiAid2hpdGUiLCAibWFya2VyQ29sb3IiOiAiYmx1ZSIsICJwcmVmaXgiOiAiZ2x5cGhpY29uIn0KICAgICAgICAgICAgKTsKICAgICAgICAgICAgbWFya2VyXzU2NTVhYzJmNjI1YzRmY2U4MjFhZTAxYThkOTEyMzk1LnNldEljb24oaWNvbl80MDg1Mzg5NDcwYmY0NTI2YjMzNTFmZDY4NTZlYzFmYSk7CiAgICAgICAgCiAgICAKICAgICAgICAgICAgdmFyIG1hcmtlcl9jMDcyZDljZDNiZjg0MmMzYTQ2YzAwNjczZjU0MGUwNSA9IEwubWFya2VyKAogICAgICAgICAgICAgICAgWzQ3LjU1NjQ1MDQ4LCAtMTIyLjI4NDEwMTIwMDAwMDAxXSwKICAgICAgICAgICAgICAgIHt9CiAgICAgICAgICAgICkuYWRkVG8obWFwX2JhZGZmYmM5YjY0YzQ2YjRhNzA3ZDQxMzRhYWQ2OTgyKTsKICAgICAgICAKICAgIAogICAgICAgICAgICB2YXIgaWNvbl8wZGJjZDdhMGEyODY0ZWMxODZmMTBjZDk2ZDcwZmZlNSA9IEwuQXdlc29tZU1hcmtlcnMuaWNvbigKICAgICAgICAgICAgICAgIHsiZXh0cmFDbGFzc2VzIjogImZhLXJvdGF0ZS0wIiwgImljb24iOiAiaW5mby1zaWduIiwgImljb25Db2xvciI6ICJ3aGl0ZSIsICJtYXJrZXJDb2xvciI6ICJibHVlIiwgInByZWZpeCI6ICJnbHlwaGljb24ifQogICAgICAgICAgICApOwogICAgICAgICAgICBtYXJrZXJfYzA3MmQ5Y2QzYmY4NDJjM2E0NmMwMDY3M2Y1NDBlMDUuc2V0SWNvbihpY29uXzBkYmNkN2EwYTI4NjRlYzE4NmYxMGNkOTZkNzBmZmU1KTsKICAgICAgICAKICAgIAogICAgICAgICAgICB2YXIgbWFya2VyX2VmMGMzMDI2YTM3MzRkNmViZGQ4MTEwOGNlYTM0OTBkID0gTC5tYXJrZXIoCiAgICAgICAgICAgICAgICBbNDcuNjEwNjgyMDAwMDAwMDA0LCAtMTIyLjM0MTk1OTVdLAogICAgICAgICAgICAgICAge30KICAgICAgICAgICAgKS5hZGRUbyhtYXBfYmFkZmZiYzliNjRjNDZiNGE3MDdkNDEzNGFhZDY5ODIpOwogICAgICAgIAogICAgCiAgICAgICAgICAgIHZhciBpY29uXzlkNGY2MmJjMTcwZDRhNDdhMTU0OWY5ODQyZDMwMDlhID0gTC5Bd2Vzb21lTWFya2Vycy5pY29uKAogICAgICAgICAgICAgICAgeyJleHRyYUNsYXNzZXMiOiAiZmEtcm90YXRlLTAiLCAiaWNvbiI6ICJpbmZvLXNpZ24iLCAiaWNvbkNvbG9yIjogIndoaXRlIiwgIm1hcmtlckNvbG9yIjogImJsdWUiLCAicHJlZml4IjogImdseXBoaWNvbiJ9CiAgICAgICAgICAgICk7CiAgICAgICAgICAgIG1hcmtlcl9lZjBjMzAyNmEzNzM0ZDZlYmRkODExMDhjZWEzNDkwZC5zZXRJY29uKGljb25fOWQ0ZjYyYmMxNzBkNGE0N2ExNTQ5Zjk4NDJkMzAwOWEpOwogICAgICAgIAogICAgCiAgICAgICAgICAgIHZhciBtYXJrZXJfYmQyZGEwYTlkNzNiNDI1N2E0NmQ1ZGM1YWJlZjg1NWEgPSBMLm1hcmtlcigKICAgICAgICAgICAgICAgIFs0Ny42MDIzMDU2LCAtMTIyLjMzMjUxOTQwMDAwMDAxXSwKICAgICAgICAgICAgICAgIHt9CiAgICAgICAgICAgICkuYWRkVG8obWFwX2JhZGZmYmM5YjY0YzQ2YjRhNzA3ZDQxMzRhYWQ2OTgyKTsKICAgICAgICAKICAgIAogICAgICAgICAgICB2YXIgaWNvbl9kN2I0NDBlNGRhNWM0ZTc2YmM4NDk2NWRiODRhMzFmZSA9IEwuQXdlc29tZU1hcmtlcnMuaWNvbigKICAgICAgICAgICAgICAgIHsiZXh0cmFDbGFzc2VzIjogImZhLXJvdGF0ZS0wIiwgImljb24iOiAiaW5mby1zaWduIiwgImljb25Db2xvciI6ICJ3aGl0ZSIsICJtYXJrZXJDb2xvciI6ICJibHVlIiwgInByZWZpeCI6ICJnbHlwaGljb24ifQogICAgICAgICAgICApOwogICAgICAgICAgICBtYXJrZXJfYmQyZGEwYTlkNzNiNDI1N2E0NmQ1ZGM1YWJlZjg1NWEuc2V0SWNvbihpY29uX2Q3YjQ0MGU0ZGE1YzRlNzZiYzg0OTY1ZGI4NGEzMWZlKTsKICAgICAgICAKPC9zY3JpcHQ+ onload=\"this.contentDocument.open();this.contentDocument.write(atob(this.getAttribute('data-html')));this.contentDocument.close();\" allowfullscreen webkitallowfullscreen mozallowfullscreen></iframe></div></div>"
      ],
      "text/plain": [
       "<folium.folium.Map at 0x24bb65f5548>"
      ]
     },
     "execution_count": 141,
     "metadata": {},
     "output_type": "execute_result"
    }
   ],
   "source": [
    "import folium\n",
    "\n",
    "m = folium.Map(location=[geo['y'].mean(), geo['x'].mean()], zoom_start = 11)\n",
    "\n",
    "geo = geo[geo.code >= 100]\n",
    "geo.code.count()\n",
    "\n",
    "for i in range(len(geo)):\n",
    "    entry = geo.iloc[i]\n",
    "    folium.Marker(location=[entry['y'], entry['x']],\n",
    "          icon=folium.Icon()\n",
    "    ).add_to(m)\n",
    "m"
   ]
  },
  {
   "cell_type": "code",
   "execution_count": 11,
   "metadata": {},
   "outputs": [
    {
     "data": {
      "text/plain": [
       "array([5012])"
      ]
     },
     "execution_count": 11,
     "metadata": {},
     "output_type": "execute_result"
    }
   ],
   "source": [
    "df_orig[\"ROADCOND\"].shape - df_orig[\"ROADCOND\"].value_counts().sum()"
   ]
  },
  {
   "cell_type": "code",
   "execution_count": 12,
   "metadata": {},
   "outputs": [
    {
     "data": {
      "text/plain": [
       "MOTOR VEHICLE STRUCK MOTOR VEHICLE, FRONT END AT ANGLE          85209\n",
       "MOTOR VEHICLE STRUCK MOTOR VEHICLE, REAR END                    54299\n",
       "MOTOR VEHICLE STRUCK MOTOR VEHICLE, LEFT SIDE SIDESWIPE          9928\n",
       "NOT ENOUGH INFORMATION / NOT APPLICABLE                          9787\n",
       "MOTOR VEHICLE RAN OFF ROAD - HIT FIXED OBJECT                    8856\n",
       "MOTOR VEHCILE STRUCK PEDESTRIAN                                  6518\n",
       "MOTOR VEHICLE STRUCK MOTOR VEHICLE, LEFT SIDE AT ANGLE           5852\n",
       "MOTOR VEHICLE STRUCK OBJECT IN ROAD                              4741\n",
       "MOTOR VEHICLE STRUCK PEDALCYCLIST, FRONT END AT ANGLE            3104\n",
       "MOTOR VEHICLE STRUCK MOTOR VEHICLE, RIGHT SIDE SIDESWIPE         1604\n",
       "MOTOR VEHICLE STRUCK MOTOR VEHICLE, RIGHT SIDE AT ANGLE          1440\n",
       "PEDALCYCLIST STRUCK MOTOR VEHICLE FRONT END AT ANGLE             1312\n",
       "MOTOR VEHICLE OVERTURNED IN ROAD                                  479\n",
       "MOTOR VEHICLE STRUCK PEDALCYCLIST, REAR END                       181\n",
       "PEDALCYCLIST STRUCK MOTOR VEHICLE LEFT SIDE SIDESWIPE             180\n",
       "MOTOR VEHICLE RAN OFF ROAD - NO COLLISION                         166\n",
       "PEDALCYCLIST STRUCK MOTOR VEHICLE REAR END                        139\n",
       "MOTOR VEHICLE STRUCK PEDALCYCLIST, LEFT SIDE SIDESWIPE            124\n",
       "DRIVERLESS VEHICLE RAN OFF ROAD - HIT FIXED OBJECT                107\n",
       "DRIVERLESS VEHICLE STRUCK MOTOR VEHICLE FRONT END AT ANGLE        104\n",
       "MOTOR VEHICLE STRUCK TRAIN                                        102\n",
       "DRIVERLESS VEHICLE STRUCK MOTOR VEHICLE REAR END                   93\n",
       "PEDALCYCLIST STRUCK PEDESTRIAN                                     75\n",
       "PEDALCYCLIST OVERTURNED IN ROAD                                    69\n",
       "DRIVERLESS VEHICLE STRUCK MOTOR VEHICLE LEFT SIDE AT ANGLE         53\n",
       "PEDALCYCLIST STRUCK MOTOR VEHICLE RIGHT SIDE SIDESWIPE             50\n",
       "PEDALCYCLIST STRUCK OBJECT IN ROAD                                 23\n",
       "MOTOR VEHICLE STRUCK PEDALCYCLIST, RIGHT SIDE SIDESWIPE            17\n",
       "DRIVERLESS VEHICLE STRUCK MOTOR VEHICLE RIGHT SIDE AT ANGLE        12\n",
       "PEDALCYCLIST STRUCK MOTOR VEHICLE LEFT SIDE AT ANGLE                9\n",
       "DRIVERLESS VEHICLE STRUCK PEDESTRIAN                                8\n",
       "PEDALCYCLIST STRUCK PEDALCYCLIST REAR END                           7\n",
       "DRIVERLESS VEHICLE STRUCK MOTOR VEHICLE RIGHT SIDE SIDESWIPE        6\n",
       "PEDALCYCLIST STRUCK PEDALCYCLIST FRONT END AT ANGLE                 5\n",
       "DRIVERLESS VEHICLE STRUCK MOTOR VEHICLE LEFT SIDE SIDESWIPE         4\n",
       "PEDALCYCLIST RAN OFF ROAD - HIT FIXED OBJECT                        4\n",
       "DRIVERLESS VEHICLE STRUCK OBJECT IN ROADWAY                         3\n",
       "PEDALCYCLIST STRUCK MOTOR VEHICLE RIGHT SIDE AT ANGLE               2\n",
       "DRIVERLESS VEHICLE RAN OFF ROAD - NO COLLISION                      1\n",
       "Name: SDOT_COLDESC, dtype: int64"
      ]
     },
     "execution_count": 12,
     "metadata": {},
     "output_type": "execute_result"
    }
   ],
   "source": [
    "df_orig[\"SDOT_COLDESC\"].value_counts()"
   ]
  },
  {
   "cell_type": "code",
   "execution_count": 13,
   "metadata": {},
   "outputs": [],
   "source": [
    "#\"INTKEY\", \"PERSONCOUNT\", \"PEDCOUNT\", \"PEDCYLCOUNT\"\n",
    "df = df_orig.drop(['ST_COLCODE', \"INCDTTM\", \"X\", \"Y\", \"JUNCTIONTYPE\", \"STATUS\", \"SDOT_COLCODE\", \"SDOTCOLNUM\", \"SEVERITYCODE.1\",\"OBJECTID\", \"INCKEY\", \"COLDETKEY\",  \"REPORTNO\", \"LOCATION\", \"EXCEPTRSNCODE\", \n",
    "         \"EXCEPTRSNDESC\", \"SEVERITYDESC\", \"ST_COLDESC\", \"SDOT_COLDESC\", \"ST_COLDESC\",\n",
    "        \"INCDATE\"], axis = 1)"
   ]
  },
  {
   "cell_type": "code",
   "execution_count": 14,
   "metadata": {},
   "outputs": [
    {
     "data": {
      "text/html": [
       "<div>\n",
       "<style scoped>\n",
       "    .dataframe tbody tr th:only-of-type {\n",
       "        vertical-align: middle;\n",
       "    }\n",
       "\n",
       "    .dataframe tbody tr th {\n",
       "        vertical-align: top;\n",
       "    }\n",
       "\n",
       "    .dataframe thead th {\n",
       "        text-align: right;\n",
       "    }\n",
       "</style>\n",
       "<table border=\"1\" class=\"dataframe\">\n",
       "  <thead>\n",
       "    <tr style=\"text-align: right;\">\n",
       "      <th></th>\n",
       "      <th>SEVERITYCODE</th>\n",
       "      <th>ADDRTYPE</th>\n",
       "      <th>INTKEY</th>\n",
       "      <th>COLLISIONTYPE</th>\n",
       "      <th>PERSONCOUNT</th>\n",
       "      <th>PEDCOUNT</th>\n",
       "      <th>PEDCYLCOUNT</th>\n",
       "      <th>VEHCOUNT</th>\n",
       "      <th>INATTENTIONIND</th>\n",
       "      <th>UNDERINFL</th>\n",
       "      <th>WEATHER</th>\n",
       "      <th>ROADCOND</th>\n",
       "      <th>LIGHTCOND</th>\n",
       "      <th>PEDROWNOTGRNT</th>\n",
       "      <th>SPEEDING</th>\n",
       "      <th>SEGLANEKEY</th>\n",
       "      <th>CROSSWALKKEY</th>\n",
       "      <th>HITPARKEDCAR</th>\n",
       "    </tr>\n",
       "  </thead>\n",
       "  <tbody>\n",
       "    <tr>\n",
       "      <th>0</th>\n",
       "      <td>2</td>\n",
       "      <td>Intersection</td>\n",
       "      <td>37475.0</td>\n",
       "      <td>Angles</td>\n",
       "      <td>2</td>\n",
       "      <td>0</td>\n",
       "      <td>0</td>\n",
       "      <td>2</td>\n",
       "      <td>NaN</td>\n",
       "      <td>N</td>\n",
       "      <td>Overcast</td>\n",
       "      <td>Wet</td>\n",
       "      <td>Daylight</td>\n",
       "      <td>NaN</td>\n",
       "      <td>NaN</td>\n",
       "      <td>0</td>\n",
       "      <td>0</td>\n",
       "      <td>N</td>\n",
       "    </tr>\n",
       "    <tr>\n",
       "      <th>1</th>\n",
       "      <td>1</td>\n",
       "      <td>Block</td>\n",
       "      <td>NaN</td>\n",
       "      <td>Sideswipe</td>\n",
       "      <td>2</td>\n",
       "      <td>0</td>\n",
       "      <td>0</td>\n",
       "      <td>2</td>\n",
       "      <td>NaN</td>\n",
       "      <td>0</td>\n",
       "      <td>Raining</td>\n",
       "      <td>Wet</td>\n",
       "      <td>Dark - Street Lights On</td>\n",
       "      <td>NaN</td>\n",
       "      <td>NaN</td>\n",
       "      <td>0</td>\n",
       "      <td>0</td>\n",
       "      <td>N</td>\n",
       "    </tr>\n",
       "    <tr>\n",
       "      <th>2</th>\n",
       "      <td>1</td>\n",
       "      <td>Block</td>\n",
       "      <td>NaN</td>\n",
       "      <td>Parked Car</td>\n",
       "      <td>4</td>\n",
       "      <td>0</td>\n",
       "      <td>0</td>\n",
       "      <td>3</td>\n",
       "      <td>NaN</td>\n",
       "      <td>0</td>\n",
       "      <td>Overcast</td>\n",
       "      <td>Dry</td>\n",
       "      <td>Daylight</td>\n",
       "      <td>NaN</td>\n",
       "      <td>NaN</td>\n",
       "      <td>0</td>\n",
       "      <td>0</td>\n",
       "      <td>N</td>\n",
       "    </tr>\n",
       "    <tr>\n",
       "      <th>3</th>\n",
       "      <td>1</td>\n",
       "      <td>Block</td>\n",
       "      <td>NaN</td>\n",
       "      <td>Other</td>\n",
       "      <td>3</td>\n",
       "      <td>0</td>\n",
       "      <td>0</td>\n",
       "      <td>3</td>\n",
       "      <td>NaN</td>\n",
       "      <td>N</td>\n",
       "      <td>Clear</td>\n",
       "      <td>Dry</td>\n",
       "      <td>Daylight</td>\n",
       "      <td>NaN</td>\n",
       "      <td>NaN</td>\n",
       "      <td>0</td>\n",
       "      <td>0</td>\n",
       "      <td>N</td>\n",
       "    </tr>\n",
       "    <tr>\n",
       "      <th>4</th>\n",
       "      <td>2</td>\n",
       "      <td>Intersection</td>\n",
       "      <td>34387.0</td>\n",
       "      <td>Angles</td>\n",
       "      <td>2</td>\n",
       "      <td>0</td>\n",
       "      <td>0</td>\n",
       "      <td>2</td>\n",
       "      <td>NaN</td>\n",
       "      <td>0</td>\n",
       "      <td>Raining</td>\n",
       "      <td>Wet</td>\n",
       "      <td>Daylight</td>\n",
       "      <td>NaN</td>\n",
       "      <td>NaN</td>\n",
       "      <td>0</td>\n",
       "      <td>0</td>\n",
       "      <td>N</td>\n",
       "    </tr>\n",
       "  </tbody>\n",
       "</table>\n",
       "</div>"
      ],
      "text/plain": [
       "   SEVERITYCODE      ADDRTYPE   INTKEY COLLISIONTYPE  PERSONCOUNT  PEDCOUNT  \\\n",
       "0             2  Intersection  37475.0        Angles            2         0   \n",
       "1             1         Block      NaN     Sideswipe            2         0   \n",
       "2             1         Block      NaN    Parked Car            4         0   \n",
       "3             1         Block      NaN         Other            3         0   \n",
       "4             2  Intersection  34387.0        Angles            2         0   \n",
       "\n",
       "   PEDCYLCOUNT  VEHCOUNT INATTENTIONIND UNDERINFL   WEATHER ROADCOND  \\\n",
       "0            0         2            NaN         N  Overcast      Wet   \n",
       "1            0         2            NaN         0   Raining      Wet   \n",
       "2            0         3            NaN         0  Overcast      Dry   \n",
       "3            0         3            NaN         N     Clear      Dry   \n",
       "4            0         2            NaN         0   Raining      Wet   \n",
       "\n",
       "                 LIGHTCOND PEDROWNOTGRNT SPEEDING  SEGLANEKEY  CROSSWALKKEY  \\\n",
       "0                 Daylight           NaN      NaN           0             0   \n",
       "1  Dark - Street Lights On           NaN      NaN           0             0   \n",
       "2                 Daylight           NaN      NaN           0             0   \n",
       "3                 Daylight           NaN      NaN           0             0   \n",
       "4                 Daylight           NaN      NaN           0             0   \n",
       "\n",
       "  HITPARKEDCAR  \n",
       "0            N  \n",
       "1            N  \n",
       "2            N  \n",
       "3            N  \n",
       "4            N  "
      ]
     },
     "execution_count": 14,
     "metadata": {},
     "output_type": "execute_result"
    }
   ],
   "source": [
    "df.head()"
   ]
  },
  {
   "cell_type": "code",
   "execution_count": 15,
   "metadata": {},
   "outputs": [
    {
     "data": {
      "text/plain": [
       "Index(['SEVERITYCODE', 'ADDRTYPE', 'INTKEY', 'COLLISIONTYPE', 'PERSONCOUNT',\n",
       "       'PEDCOUNT', 'PEDCYLCOUNT', 'VEHCOUNT', 'INATTENTIONIND', 'UNDERINFL',\n",
       "       'WEATHER', 'ROADCOND', 'LIGHTCOND', 'PEDROWNOTGRNT', 'SPEEDING',\n",
       "       'SEGLANEKEY', 'CROSSWALKKEY', 'HITPARKEDCAR'],\n",
       "      dtype='object')"
      ]
     },
     "execution_count": 15,
     "metadata": {},
     "output_type": "execute_result"
    }
   ],
   "source": [
    "df.columns"
   ]
  },
  {
   "cell_type": "code",
   "execution_count": 16,
   "metadata": {
    "scrolled": true
   },
   "outputs": [
    {
     "name": "stdout",
     "output_type": "stream",
     "text": [
      "SEVERITYCODE  =  2\n",
      "ADDRTYPE  =  3\n",
      "INTKEY  =  7614\n",
      "COLLISIONTYPE  =  10\n",
      "PERSONCOUNT  =  47\n",
      "PEDCOUNT  =  7\n",
      "PEDCYLCOUNT  =  3\n",
      "VEHCOUNT  =  13\n",
      "INATTENTIONIND  =  1\n",
      "UNDERINFL  =  4\n",
      "WEATHER  =  11\n",
      "ROADCOND  =  9\n",
      "LIGHTCOND  =  9\n",
      "PEDROWNOTGRNT  =  1\n",
      "SPEEDING  =  1\n",
      "SEGLANEKEY  =  1955\n",
      "CROSSWALKKEY  =  2198\n",
      "HITPARKEDCAR  =  2\n"
     ]
    }
   ],
   "source": [
    "for col in df.columns:\n",
    "    print(col, \" = \", df[col].value_counts().count())"
   ]
  },
  {
   "cell_type": "code",
   "execution_count": 139,
   "metadata": {},
   "outputs": [
    {
     "data": {
      "text/plain": [
       "[]"
      ]
     },
     "execution_count": 139,
     "metadata": {},
     "output_type": "execute_result"
    },
    {
     "data": {
      "image/png": "[encoded data removed]",
      "text/plain": [
       "<Figure size 432x288 with 1 Axes>"
      ]
     },
     "metadata": {
      "needs_background": "light"
     },
     "output_type": "display_data"
    }
   ],
   "source": [
    "plt.plot()"
   ]
  },
  {
   "cell_type": "code",
   "execution_count": 18,
   "metadata": {},
   "outputs": [
    {
     "data": {
      "text/plain": [
       "2198"
      ]
     },
     "execution_count": 18,
     "metadata": {},
     "output_type": "execute_result"
    }
   ],
   "source": [
    "df[\"CROSSWALKKEY\"].value_counts().count()"
   ]
  },
  {
   "cell_type": "code",
   "execution_count": 138,
   "metadata": {},
   "outputs": [
    {
     "ename": "KeyError",
     "evalue": "'ST_COLCODE'",
     "output_type": "error",
     "traceback": [
      "\u001b[1;31m---------------------------------------------------------------------------\u001b[0m",
      "\u001b[1;31mKeyError\u001b[0m                                  Traceback (most recent call last)",
      "\u001b[1;32m~\\anaconda3\\lib\\site-packages\\pandas\\core\\indexes\\base.py\u001b[0m in \u001b[0;36mget_loc\u001b[1;34m(self, key, method, tolerance)\u001b[0m\n\u001b[0;32m   2645\u001b[0m             \u001b[1;32mtry\u001b[0m\u001b[1;33m:\u001b[0m\u001b[1;33m\u001b[0m\u001b[1;33m\u001b[0m\u001b[0m\n\u001b[1;32m-> 2646\u001b[1;33m                 \u001b[1;32mreturn\u001b[0m \u001b[0mself\u001b[0m\u001b[1;33m.\u001b[0m\u001b[0m_engine\u001b[0m\u001b[1;33m.\u001b[0m\u001b[0mget_loc\u001b[0m\u001b[1;33m(\u001b[0m\u001b[0mkey\u001b[0m\u001b[1;33m)\u001b[0m\u001b[1;33m\u001b[0m\u001b[1;33m\u001b[0m\u001b[0m\n\u001b[0m\u001b[0;32m   2647\u001b[0m             \u001b[1;32mexcept\u001b[0m \u001b[0mKeyError\u001b[0m\u001b[1;33m:\u001b[0m\u001b[1;33m\u001b[0m\u001b[1;33m\u001b[0m\u001b[0m\n",
      "\u001b[1;32mpandas\\_libs\\index.pyx\u001b[0m in \u001b[0;36mpandas._libs.index.IndexEngine.get_loc\u001b[1;34m()\u001b[0m\n",
      "\u001b[1;32mpandas\\_libs\\index.pyx\u001b[0m in \u001b[0;36mpandas._libs.index.IndexEngine.get_loc\u001b[1;34m()\u001b[0m\n",
      "\u001b[1;32mpandas\\_libs\\hashtable_class_helper.pxi\u001b[0m in \u001b[0;36mpandas._libs.hashtable.PyObjectHashTable.get_item\u001b[1;34m()\u001b[0m\n",
      "\u001b[1;32mpandas\\_libs\\hashtable_class_helper.pxi\u001b[0m in \u001b[0;36mpandas._libs.hashtable.PyObjectHashTable.get_item\u001b[1;34m()\u001b[0m\n",
      "\u001b[1;31mKeyError\u001b[0m: 'ST_COLCODE'",
      "\nDuring handling of the above exception, another exception occurred:\n",
      "\u001b[1;31mKeyError\u001b[0m                                  Traceback (most recent call last)",
      "\u001b[1;32m<ipython-input-138-c22160c2d228>\u001b[0m in \u001b[0;36m<module>\u001b[1;34m\u001b[0m\n\u001b[1;32m----> 1\u001b[1;33m \u001b[0mdf\u001b[0m\u001b[1;33m[\u001b[0m\u001b[1;34m\"ST_COLCODE\"\u001b[0m\u001b[1;33m]\u001b[0m\u001b[1;33m.\u001b[0m\u001b[0mvalue_counts\u001b[0m\u001b[1;33m(\u001b[0m\u001b[1;33m)\u001b[0m\u001b[1;33m\u001b[0m\u001b[1;33m\u001b[0m\u001b[0m\n\u001b[0m",
      "\u001b[1;32m~\\anaconda3\\lib\\site-packages\\pandas\\core\\frame.py\u001b[0m in \u001b[0;36m__getitem__\u001b[1;34m(self, key)\u001b[0m\n\u001b[0;32m   2798\u001b[0m             \u001b[1;32mif\u001b[0m \u001b[0mself\u001b[0m\u001b[1;33m.\u001b[0m\u001b[0mcolumns\u001b[0m\u001b[1;33m.\u001b[0m\u001b[0mnlevels\u001b[0m \u001b[1;33m>\u001b[0m \u001b[1;36m1\u001b[0m\u001b[1;33m:\u001b[0m\u001b[1;33m\u001b[0m\u001b[1;33m\u001b[0m\u001b[0m\n\u001b[0;32m   2799\u001b[0m                 \u001b[1;32mreturn\u001b[0m \u001b[0mself\u001b[0m\u001b[1;33m.\u001b[0m\u001b[0m_getitem_multilevel\u001b[0m\u001b[1;33m(\u001b[0m\u001b[0mkey\u001b[0m\u001b[1;33m)\u001b[0m\u001b[1;33m\u001b[0m\u001b[1;33m\u001b[0m\u001b[0m\n\u001b[1;32m-> 2800\u001b[1;33m             \u001b[0mindexer\u001b[0m \u001b[1;33m=\u001b[0m \u001b[0mself\u001b[0m\u001b[1;33m.\u001b[0m\u001b[0mcolumns\u001b[0m\u001b[1;33m.\u001b[0m\u001b[0mget_loc\u001b[0m\u001b[1;33m(\u001b[0m\u001b[0mkey\u001b[0m\u001b[1;33m)\u001b[0m\u001b[1;33m\u001b[0m\u001b[1;33m\u001b[0m\u001b[0m\n\u001b[0m\u001b[0;32m   2801\u001b[0m             \u001b[1;32mif\u001b[0m \u001b[0mis_integer\u001b[0m\u001b[1;33m(\u001b[0m\u001b[0mindexer\u001b[0m\u001b[1;33m)\u001b[0m\u001b[1;33m:\u001b[0m\u001b[1;33m\u001b[0m\u001b[1;33m\u001b[0m\u001b[0m\n\u001b[0;32m   2802\u001b[0m                 \u001b[0mindexer\u001b[0m \u001b[1;33m=\u001b[0m \u001b[1;33m[\u001b[0m\u001b[0mindexer\u001b[0m\u001b[1;33m]\u001b[0m\u001b[1;33m\u001b[0m\u001b[1;33m\u001b[0m\u001b[0m\n",
      "\u001b[1;32m~\\anaconda3\\lib\\site-packages\\pandas\\core\\indexes\\base.py\u001b[0m in \u001b[0;36mget_loc\u001b[1;34m(self, key, method, tolerance)\u001b[0m\n\u001b[0;32m   2646\u001b[0m                 \u001b[1;32mreturn\u001b[0m \u001b[0mself\u001b[0m\u001b[1;33m.\u001b[0m\u001b[0m_engine\u001b[0m\u001b[1;33m.\u001b[0m\u001b[0mget_loc\u001b[0m\u001b[1;33m(\u001b[0m\u001b[0mkey\u001b[0m\u001b[1;33m)\u001b[0m\u001b[1;33m\u001b[0m\u001b[1;33m\u001b[0m\u001b[0m\n\u001b[0;32m   2647\u001b[0m             \u001b[1;32mexcept\u001b[0m \u001b[0mKeyError\u001b[0m\u001b[1;33m:\u001b[0m\u001b[1;33m\u001b[0m\u001b[1;33m\u001b[0m\u001b[0m\n\u001b[1;32m-> 2648\u001b[1;33m                 \u001b[1;32mreturn\u001b[0m \u001b[0mself\u001b[0m\u001b[1;33m.\u001b[0m\u001b[0m_engine\u001b[0m\u001b[1;33m.\u001b[0m\u001b[0mget_loc\u001b[0m\u001b[1;33m(\u001b[0m\u001b[0mself\u001b[0m\u001b[1;33m.\u001b[0m\u001b[0m_maybe_cast_indexer\u001b[0m\u001b[1;33m(\u001b[0m\u001b[0mkey\u001b[0m\u001b[1;33m)\u001b[0m\u001b[1;33m)\u001b[0m\u001b[1;33m\u001b[0m\u001b[1;33m\u001b[0m\u001b[0m\n\u001b[0m\u001b[0;32m   2649\u001b[0m         \u001b[0mindexer\u001b[0m \u001b[1;33m=\u001b[0m \u001b[0mself\u001b[0m\u001b[1;33m.\u001b[0m\u001b[0mget_indexer\u001b[0m\u001b[1;33m(\u001b[0m\u001b[1;33m[\u001b[0m\u001b[0mkey\u001b[0m\u001b[1;33m]\u001b[0m\u001b[1;33m,\u001b[0m \u001b[0mmethod\u001b[0m\u001b[1;33m=\u001b[0m\u001b[0mmethod\u001b[0m\u001b[1;33m,\u001b[0m \u001b[0mtolerance\u001b[0m\u001b[1;33m=\u001b[0m\u001b[0mtolerance\u001b[0m\u001b[1;33m)\u001b[0m\u001b[1;33m\u001b[0m\u001b[1;33m\u001b[0m\u001b[0m\n\u001b[0;32m   2650\u001b[0m         \u001b[1;32mif\u001b[0m \u001b[0mindexer\u001b[0m\u001b[1;33m.\u001b[0m\u001b[0mndim\u001b[0m \u001b[1;33m>\u001b[0m \u001b[1;36m1\u001b[0m \u001b[1;32mor\u001b[0m \u001b[0mindexer\u001b[0m\u001b[1;33m.\u001b[0m\u001b[0msize\u001b[0m \u001b[1;33m>\u001b[0m \u001b[1;36m1\u001b[0m\u001b[1;33m:\u001b[0m\u001b[1;33m\u001b[0m\u001b[1;33m\u001b[0m\u001b[0m\n",
      "\u001b[1;32mpandas\\_libs\\index.pyx\u001b[0m in \u001b[0;36mpandas._libs.index.IndexEngine.get_loc\u001b[1;34m()\u001b[0m\n",
      "\u001b[1;32mpandas\\_libs\\index.pyx\u001b[0m in \u001b[0;36mpandas._libs.index.IndexEngine.get_loc\u001b[1;34m()\u001b[0m\n",
      "\u001b[1;32mpandas\\_libs\\hashtable_class_helper.pxi\u001b[0m in \u001b[0;36mpandas._libs.hashtable.PyObjectHashTable.get_item\u001b[1;34m()\u001b[0m\n",
      "\u001b[1;32mpandas\\_libs\\hashtable_class_helper.pxi\u001b[0m in \u001b[0;36mpandas._libs.hashtable.PyObjectHashTable.get_item\u001b[1;34m()\u001b[0m\n",
      "\u001b[1;31mKeyError\u001b[0m: 'ST_COLCODE'"
     ]
    }
   ],
   "source": [
    "df[\"ST_COLCODE\"].value_counts()"
   ]
  },
  {
   "cell_type": "code",
   "execution_count": null,
   "metadata": {},
   "outputs": [],
   "source": [
    "df[\"INATTENTIONIND\"].value_counts()"
   ]
  },
  {
   "cell_type": "code",
   "execution_count": null,
   "metadata": {},
   "outputs": [],
   "source": [
    "df.corr()"
   ]
  },
  {
   "cell_type": "code",
   "execution_count": null,
   "metadata": {},
   "outputs": [],
   "source": []
  },
  {
   "cell_type": "code",
   "execution_count": null,
   "metadata": {},
   "outputs": [],
   "source": [
    "df[\"SEVERITYCODE\"].value_counts()"
   ]
  }
 ],
 "metadata": {
  "kernelspec": {
   "display_name": "Python 3",
   "language": "python",
   "name": "python3"
  },
  "language_info": {
   "codemirror_mode": {
    "name": "ipython",
    "version": 3
   },
   "file_extension": ".py",
   "mimetype": "text/x-python",
   "name": "python",
   "nbconvert_exporter": "python",
   "pygments_lexer": "ipython3",
   "version": "3.7.6"
  }
 },
 "nbformat": 4,
 "nbformat_minor": 4
}
